{
  "nbformat": 4,
  "nbformat_minor": 0,
  "metadata": {
    "colab": {
      "provenance": [],
      "collapsed_sections": [
        "Y0X6ornXvqDb",
        "N-MhQ5CztcVl",
        "4Mflquydtg5u",
        "dNsew1fZMXNm"
      ],
      "include_colab_link": true
    },
    "kernelspec": {
      "name": "python3",
      "display_name": "Python 3"
    },
    "language_info": {
      "name": "python"
    },
    "widgets": {
      "application/vnd.jupyter.widget-state+json": {
        "41ba99c07d5242f181efb0b9057e5c12": {
          "model_module": "@jupyter-widgets/controls",
          "model_name": "HBoxModel",
          "model_module_version": "1.5.0",
          "state": {
            "_dom_classes": [],
            "_model_module": "@jupyter-widgets/controls",
            "_model_module_version": "1.5.0",
            "_model_name": "HBoxModel",
            "_view_count": null,
            "_view_module": "@jupyter-widgets/controls",
            "_view_module_version": "1.5.0",
            "_view_name": "HBoxView",
            "box_style": "",
            "children": [
              "IPY_MODEL_c665d992682046ef9d11bab881996f0b",
              "IPY_MODEL_4b1734321e15426bb84c7becfa68fcac",
              "IPY_MODEL_6dd8ad9269064db2bf98e9a04024c4e9"
            ],
            "layout": "IPY_MODEL_b14bbdd2fd36480383f9cf19a410dea5"
          }
        },
        "c665d992682046ef9d11bab881996f0b": {
          "model_module": "@jupyter-widgets/controls",
          "model_name": "HTMLModel",
          "model_module_version": "1.5.0",
          "state": {
            "_dom_classes": [],
            "_model_module": "@jupyter-widgets/controls",
            "_model_module_version": "1.5.0",
            "_model_name": "HTMLModel",
            "_view_count": null,
            "_view_module": "@jupyter-widgets/controls",
            "_view_module_version": "1.5.0",
            "_view_name": "HTMLView",
            "description": "",
            "description_tooltip": null,
            "layout": "IPY_MODEL_5e7d3b86a7544e658be19fc2c0ea27b7",
            "placeholder": "​",
            "style": "IPY_MODEL_77a0be7f9d334344bba2e1d50e8490a2",
            "value": "tokenizer_config.json: 100%"
          }
        },
        "4b1734321e15426bb84c7becfa68fcac": {
          "model_module": "@jupyter-widgets/controls",
          "model_name": "FloatProgressModel",
          "model_module_version": "1.5.0",
          "state": {
            "_dom_classes": [],
            "_model_module": "@jupyter-widgets/controls",
            "_model_module_version": "1.5.0",
            "_model_name": "FloatProgressModel",
            "_view_count": null,
            "_view_module": "@jupyter-widgets/controls",
            "_view_module_version": "1.5.0",
            "_view_name": "ProgressView",
            "bar_style": "success",
            "description": "",
            "description_tooltip": null,
            "layout": "IPY_MODEL_9454813e5cca40a0bf43bb3182e62156",
            "max": 1460,
            "min": 0,
            "orientation": "horizontal",
            "style": "IPY_MODEL_7711f07eb0c349e49dc30c35de820323",
            "value": 1460
          }
        },
        "6dd8ad9269064db2bf98e9a04024c4e9": {
          "model_module": "@jupyter-widgets/controls",
          "model_name": "HTMLModel",
          "model_module_version": "1.5.0",
          "state": {
            "_dom_classes": [],
            "_model_module": "@jupyter-widgets/controls",
            "_model_module_version": "1.5.0",
            "_model_name": "HTMLModel",
            "_view_count": null,
            "_view_module": "@jupyter-widgets/controls",
            "_view_module_version": "1.5.0",
            "_view_name": "HTMLView",
            "description": "",
            "description_tooltip": null,
            "layout": "IPY_MODEL_d84eb0784b5a47d4896b82cad45b2b90",
            "placeholder": "​",
            "style": "IPY_MODEL_7b692c24f9744d87b4df86e8a305e169",
            "value": " 1.46k/1.46k [00:00&lt;00:00, 25.3kB/s]"
          }
        },
        "b14bbdd2fd36480383f9cf19a410dea5": {
          "model_module": "@jupyter-widgets/base",
          "model_name": "LayoutModel",
          "model_module_version": "1.2.0",
          "state": {
            "_model_module": "@jupyter-widgets/base",
            "_model_module_version": "1.2.0",
            "_model_name": "LayoutModel",
            "_view_count": null,
            "_view_module": "@jupyter-widgets/base",
            "_view_module_version": "1.2.0",
            "_view_name": "LayoutView",
            "align_content": null,
            "align_items": null,
            "align_self": null,
            "border": null,
            "bottom": null,
            "display": null,
            "flex": null,
            "flex_flow": null,
            "grid_area": null,
            "grid_auto_columns": null,
            "grid_auto_flow": null,
            "grid_auto_rows": null,
            "grid_column": null,
            "grid_gap": null,
            "grid_row": null,
            "grid_template_areas": null,
            "grid_template_columns": null,
            "grid_template_rows": null,
            "height": null,
            "justify_content": null,
            "justify_items": null,
            "left": null,
            "margin": null,
            "max_height": null,
            "max_width": null,
            "min_height": null,
            "min_width": null,
            "object_fit": null,
            "object_position": null,
            "order": null,
            "overflow": null,
            "overflow_x": null,
            "overflow_y": null,
            "padding": null,
            "right": null,
            "top": null,
            "visibility": null,
            "width": null
          }
        },
        "5e7d3b86a7544e658be19fc2c0ea27b7": {
          "model_module": "@jupyter-widgets/base",
          "model_name": "LayoutModel",
          "model_module_version": "1.2.0",
          "state": {
            "_model_module": "@jupyter-widgets/base",
            "_model_module_version": "1.2.0",
            "_model_name": "LayoutModel",
            "_view_count": null,
            "_view_module": "@jupyter-widgets/base",
            "_view_module_version": "1.2.0",
            "_view_name": "LayoutView",
            "align_content": null,
            "align_items": null,
            "align_self": null,
            "border": null,
            "bottom": null,
            "display": null,
            "flex": null,
            "flex_flow": null,
            "grid_area": null,
            "grid_auto_columns": null,
            "grid_auto_flow": null,
            "grid_auto_rows": null,
            "grid_column": null,
            "grid_gap": null,
            "grid_row": null,
            "grid_template_areas": null,
            "grid_template_columns": null,
            "grid_template_rows": null,
            "height": null,
            "justify_content": null,
            "justify_items": null,
            "left": null,
            "margin": null,
            "max_height": null,
            "max_width": null,
            "min_height": null,
            "min_width": null,
            "object_fit": null,
            "object_position": null,
            "order": null,
            "overflow": null,
            "overflow_x": null,
            "overflow_y": null,
            "padding": null,
            "right": null,
            "top": null,
            "visibility": null,
            "width": null
          }
        },
        "77a0be7f9d334344bba2e1d50e8490a2": {
          "model_module": "@jupyter-widgets/controls",
          "model_name": "DescriptionStyleModel",
          "model_module_version": "1.5.0",
          "state": {
            "_model_module": "@jupyter-widgets/controls",
            "_model_module_version": "1.5.0",
            "_model_name": "DescriptionStyleModel",
            "_view_count": null,
            "_view_module": "@jupyter-widgets/base",
            "_view_module_version": "1.2.0",
            "_view_name": "StyleView",
            "description_width": ""
          }
        },
        "9454813e5cca40a0bf43bb3182e62156": {
          "model_module": "@jupyter-widgets/base",
          "model_name": "LayoutModel",
          "model_module_version": "1.2.0",
          "state": {
            "_model_module": "@jupyter-widgets/base",
            "_model_module_version": "1.2.0",
            "_model_name": "LayoutModel",
            "_view_count": null,
            "_view_module": "@jupyter-widgets/base",
            "_view_module_version": "1.2.0",
            "_view_name": "LayoutView",
            "align_content": null,
            "align_items": null,
            "align_self": null,
            "border": null,
            "bottom": null,
            "display": null,
            "flex": null,
            "flex_flow": null,
            "grid_area": null,
            "grid_auto_columns": null,
            "grid_auto_flow": null,
            "grid_auto_rows": null,
            "grid_column": null,
            "grid_gap": null,
            "grid_row": null,
            "grid_template_areas": null,
            "grid_template_columns": null,
            "grid_template_rows": null,
            "height": null,
            "justify_content": null,
            "justify_items": null,
            "left": null,
            "margin": null,
            "max_height": null,
            "max_width": null,
            "min_height": null,
            "min_width": null,
            "object_fit": null,
            "object_position": null,
            "order": null,
            "overflow": null,
            "overflow_x": null,
            "overflow_y": null,
            "padding": null,
            "right": null,
            "top": null,
            "visibility": null,
            "width": null
          }
        },
        "7711f07eb0c349e49dc30c35de820323": {
          "model_module": "@jupyter-widgets/controls",
          "model_name": "ProgressStyleModel",
          "model_module_version": "1.5.0",
          "state": {
            "_model_module": "@jupyter-widgets/controls",
            "_model_module_version": "1.5.0",
            "_model_name": "ProgressStyleModel",
            "_view_count": null,
            "_view_module": "@jupyter-widgets/base",
            "_view_module_version": "1.2.0",
            "_view_name": "StyleView",
            "bar_color": null,
            "description_width": ""
          }
        },
        "d84eb0784b5a47d4896b82cad45b2b90": {
          "model_module": "@jupyter-widgets/base",
          "model_name": "LayoutModel",
          "model_module_version": "1.2.0",
          "state": {
            "_model_module": "@jupyter-widgets/base",
            "_model_module_version": "1.2.0",
            "_model_name": "LayoutModel",
            "_view_count": null,
            "_view_module": "@jupyter-widgets/base",
            "_view_module_version": "1.2.0",
            "_view_name": "LayoutView",
            "align_content": null,
            "align_items": null,
            "align_self": null,
            "border": null,
            "bottom": null,
            "display": null,
            "flex": null,
            "flex_flow": null,
            "grid_area": null,
            "grid_auto_columns": null,
            "grid_auto_flow": null,
            "grid_auto_rows": null,
            "grid_column": null,
            "grid_gap": null,
            "grid_row": null,
            "grid_template_areas": null,
            "grid_template_columns": null,
            "grid_template_rows": null,
            "height": null,
            "justify_content": null,
            "justify_items": null,
            "left": null,
            "margin": null,
            "max_height": null,
            "max_width": null,
            "min_height": null,
            "min_width": null,
            "object_fit": null,
            "object_position": null,
            "order": null,
            "overflow": null,
            "overflow_x": null,
            "overflow_y": null,
            "padding": null,
            "right": null,
            "top": null,
            "visibility": null,
            "width": null
          }
        },
        "7b692c24f9744d87b4df86e8a305e169": {
          "model_module": "@jupyter-widgets/controls",
          "model_name": "DescriptionStyleModel",
          "model_module_version": "1.5.0",
          "state": {
            "_model_module": "@jupyter-widgets/controls",
            "_model_module_version": "1.5.0",
            "_model_name": "DescriptionStyleModel",
            "_view_count": null,
            "_view_module": "@jupyter-widgets/base",
            "_view_module_version": "1.2.0",
            "_view_name": "StyleView",
            "description_width": ""
          }
        },
        "19e1c4a3bd544ee9b18878be2e24a89e": {
          "model_module": "@jupyter-widgets/controls",
          "model_name": "HBoxModel",
          "model_module_version": "1.5.0",
          "state": {
            "_dom_classes": [],
            "_model_module": "@jupyter-widgets/controls",
            "_model_module_version": "1.5.0",
            "_model_name": "HBoxModel",
            "_view_count": null,
            "_view_module": "@jupyter-widgets/controls",
            "_view_module_version": "1.5.0",
            "_view_name": "HBoxView",
            "box_style": "",
            "children": [
              "IPY_MODEL_247595e547d243db8e8401c8aa37a488",
              "IPY_MODEL_85ad24629de648c2b0377b99d9bf7379",
              "IPY_MODEL_2f76c38668ed4ffb9afe33c38008721b"
            ],
            "layout": "IPY_MODEL_ccf0ed551cf447f7aa328b093d082d85"
          }
        },
        "247595e547d243db8e8401c8aa37a488": {
          "model_module": "@jupyter-widgets/controls",
          "model_name": "HTMLModel",
          "model_module_version": "1.5.0",
          "state": {
            "_dom_classes": [],
            "_model_module": "@jupyter-widgets/controls",
            "_model_module_version": "1.5.0",
            "_model_name": "HTMLModel",
            "_view_count": null,
            "_view_module": "@jupyter-widgets/controls",
            "_view_module_version": "1.5.0",
            "_view_name": "HTMLView",
            "description": "",
            "description_tooltip": null,
            "layout": "IPY_MODEL_b2c34b7f7556477d90d9564f3838982f",
            "placeholder": "​",
            "style": "IPY_MODEL_39eaf798b08d4fb38d6d22559deb173b",
            "value": "tokenizer.model: 100%"
          }
        },
        "85ad24629de648c2b0377b99d9bf7379": {
          "model_module": "@jupyter-widgets/controls",
          "model_name": "FloatProgressModel",
          "model_module_version": "1.5.0",
          "state": {
            "_dom_classes": [],
            "_model_module": "@jupyter-widgets/controls",
            "_model_module_version": "1.5.0",
            "_model_name": "FloatProgressModel",
            "_view_count": null,
            "_view_module": "@jupyter-widgets/controls",
            "_view_module_version": "1.5.0",
            "_view_name": "ProgressView",
            "bar_style": "success",
            "description": "",
            "description_tooltip": null,
            "layout": "IPY_MODEL_d0645c4537a04920820cfb4e87772f01",
            "max": 493443,
            "min": 0,
            "orientation": "horizontal",
            "style": "IPY_MODEL_96aa1f6735f941beb0de1e83f87f469a",
            "value": 493443
          }
        },
        "2f76c38668ed4ffb9afe33c38008721b": {
          "model_module": "@jupyter-widgets/controls",
          "model_name": "HTMLModel",
          "model_module_version": "1.5.0",
          "state": {
            "_dom_classes": [],
            "_model_module": "@jupyter-widgets/controls",
            "_model_module_version": "1.5.0",
            "_model_name": "HTMLModel",
            "_view_count": null,
            "_view_module": "@jupyter-widgets/controls",
            "_view_module_version": "1.5.0",
            "_view_name": "HTMLView",
            "description": "",
            "description_tooltip": null,
            "layout": "IPY_MODEL_323d6624dfdf426dab8adba3c5660ceb",
            "placeholder": "​",
            "style": "IPY_MODEL_8b5bb1a621c548a19101bbc1c39f34fa",
            "value": " 493k/493k [00:00&lt;00:00, 5.64MB/s]"
          }
        },
        "ccf0ed551cf447f7aa328b093d082d85": {
          "model_module": "@jupyter-widgets/base",
          "model_name": "LayoutModel",
          "model_module_version": "1.2.0",
          "state": {
            "_model_module": "@jupyter-widgets/base",
            "_model_module_version": "1.2.0",
            "_model_name": "LayoutModel",
            "_view_count": null,
            "_view_module": "@jupyter-widgets/base",
            "_view_module_version": "1.2.0",
            "_view_name": "LayoutView",
            "align_content": null,
            "align_items": null,
            "align_self": null,
            "border": null,
            "bottom": null,
            "display": null,
            "flex": null,
            "flex_flow": null,
            "grid_area": null,
            "grid_auto_columns": null,
            "grid_auto_flow": null,
            "grid_auto_rows": null,
            "grid_column": null,
            "grid_gap": null,
            "grid_row": null,
            "grid_template_areas": null,
            "grid_template_columns": null,
            "grid_template_rows": null,
            "height": null,
            "justify_content": null,
            "justify_items": null,
            "left": null,
            "margin": null,
            "max_height": null,
            "max_width": null,
            "min_height": null,
            "min_width": null,
            "object_fit": null,
            "object_position": null,
            "order": null,
            "overflow": null,
            "overflow_x": null,
            "overflow_y": null,
            "padding": null,
            "right": null,
            "top": null,
            "visibility": null,
            "width": null
          }
        },
        "b2c34b7f7556477d90d9564f3838982f": {
          "model_module": "@jupyter-widgets/base",
          "model_name": "LayoutModel",
          "model_module_version": "1.2.0",
          "state": {
            "_model_module": "@jupyter-widgets/base",
            "_model_module_version": "1.2.0",
            "_model_name": "LayoutModel",
            "_view_count": null,
            "_view_module": "@jupyter-widgets/base",
            "_view_module_version": "1.2.0",
            "_view_name": "LayoutView",
            "align_content": null,
            "align_items": null,
            "align_self": null,
            "border": null,
            "bottom": null,
            "display": null,
            "flex": null,
            "flex_flow": null,
            "grid_area": null,
            "grid_auto_columns": null,
            "grid_auto_flow": null,
            "grid_auto_rows": null,
            "grid_column": null,
            "grid_gap": null,
            "grid_row": null,
            "grid_template_areas": null,
            "grid_template_columns": null,
            "grid_template_rows": null,
            "height": null,
            "justify_content": null,
            "justify_items": null,
            "left": null,
            "margin": null,
            "max_height": null,
            "max_width": null,
            "min_height": null,
            "min_width": null,
            "object_fit": null,
            "object_position": null,
            "order": null,
            "overflow": null,
            "overflow_x": null,
            "overflow_y": null,
            "padding": null,
            "right": null,
            "top": null,
            "visibility": null,
            "width": null
          }
        },
        "39eaf798b08d4fb38d6d22559deb173b": {
          "model_module": "@jupyter-widgets/controls",
          "model_name": "DescriptionStyleModel",
          "model_module_version": "1.5.0",
          "state": {
            "_model_module": "@jupyter-widgets/controls",
            "_model_module_version": "1.5.0",
            "_model_name": "DescriptionStyleModel",
            "_view_count": null,
            "_view_module": "@jupyter-widgets/base",
            "_view_module_version": "1.2.0",
            "_view_name": "StyleView",
            "description_width": ""
          }
        },
        "d0645c4537a04920820cfb4e87772f01": {
          "model_module": "@jupyter-widgets/base",
          "model_name": "LayoutModel",
          "model_module_version": "1.2.0",
          "state": {
            "_model_module": "@jupyter-widgets/base",
            "_model_module_version": "1.2.0",
            "_model_name": "LayoutModel",
            "_view_count": null,
            "_view_module": "@jupyter-widgets/base",
            "_view_module_version": "1.2.0",
            "_view_name": "LayoutView",
            "align_content": null,
            "align_items": null,
            "align_self": null,
            "border": null,
            "bottom": null,
            "display": null,
            "flex": null,
            "flex_flow": null,
            "grid_area": null,
            "grid_auto_columns": null,
            "grid_auto_flow": null,
            "grid_auto_rows": null,
            "grid_column": null,
            "grid_gap": null,
            "grid_row": null,
            "grid_template_areas": null,
            "grid_template_columns": null,
            "grid_template_rows": null,
            "height": null,
            "justify_content": null,
            "justify_items": null,
            "left": null,
            "margin": null,
            "max_height": null,
            "max_width": null,
            "min_height": null,
            "min_width": null,
            "object_fit": null,
            "object_position": null,
            "order": null,
            "overflow": null,
            "overflow_x": null,
            "overflow_y": null,
            "padding": null,
            "right": null,
            "top": null,
            "visibility": null,
            "width": null
          }
        },
        "96aa1f6735f941beb0de1e83f87f469a": {
          "model_module": "@jupyter-widgets/controls",
          "model_name": "ProgressStyleModel",
          "model_module_version": "1.5.0",
          "state": {
            "_model_module": "@jupyter-widgets/controls",
            "_model_module_version": "1.5.0",
            "_model_name": "ProgressStyleModel",
            "_view_count": null,
            "_view_module": "@jupyter-widgets/base",
            "_view_module_version": "1.2.0",
            "_view_name": "StyleView",
            "bar_color": null,
            "description_width": ""
          }
        },
        "323d6624dfdf426dab8adba3c5660ceb": {
          "model_module": "@jupyter-widgets/base",
          "model_name": "LayoutModel",
          "model_module_version": "1.2.0",
          "state": {
            "_model_module": "@jupyter-widgets/base",
            "_model_module_version": "1.2.0",
            "_model_name": "LayoutModel",
            "_view_count": null,
            "_view_module": "@jupyter-widgets/base",
            "_view_module_version": "1.2.0",
            "_view_name": "LayoutView",
            "align_content": null,
            "align_items": null,
            "align_self": null,
            "border": null,
            "bottom": null,
            "display": null,
            "flex": null,
            "flex_flow": null,
            "grid_area": null,
            "grid_auto_columns": null,
            "grid_auto_flow": null,
            "grid_auto_rows": null,
            "grid_column": null,
            "grid_gap": null,
            "grid_row": null,
            "grid_template_areas": null,
            "grid_template_columns": null,
            "grid_template_rows": null,
            "height": null,
            "justify_content": null,
            "justify_items": null,
            "left": null,
            "margin": null,
            "max_height": null,
            "max_width": null,
            "min_height": null,
            "min_width": null,
            "object_fit": null,
            "object_position": null,
            "order": null,
            "overflow": null,
            "overflow_x": null,
            "overflow_y": null,
            "padding": null,
            "right": null,
            "top": null,
            "visibility": null,
            "width": null
          }
        },
        "8b5bb1a621c548a19101bbc1c39f34fa": {
          "model_module": "@jupyter-widgets/controls",
          "model_name": "DescriptionStyleModel",
          "model_module_version": "1.5.0",
          "state": {
            "_model_module": "@jupyter-widgets/controls",
            "_model_module_version": "1.5.0",
            "_model_name": "DescriptionStyleModel",
            "_view_count": null,
            "_view_module": "@jupyter-widgets/base",
            "_view_module_version": "1.2.0",
            "_view_name": "StyleView",
            "description_width": ""
          }
        },
        "e04e213fc8a9423f8094f95d3bf6c7cd": {
          "model_module": "@jupyter-widgets/controls",
          "model_name": "HBoxModel",
          "model_module_version": "1.5.0",
          "state": {
            "_dom_classes": [],
            "_model_module": "@jupyter-widgets/controls",
            "_model_module_version": "1.5.0",
            "_model_name": "HBoxModel",
            "_view_count": null,
            "_view_module": "@jupyter-widgets/controls",
            "_view_module_version": "1.5.0",
            "_view_name": "HBoxView",
            "box_style": "",
            "children": [
              "IPY_MODEL_8ba1869a5f364038838522f49c47cb68",
              "IPY_MODEL_36111580dd02499da078ea25fb825033",
              "IPY_MODEL_2b571bdd718f4f38b3c767f0d70986ea"
            ],
            "layout": "IPY_MODEL_ac57b20091114bb4872845b3b21ab9d8"
          }
        },
        "8ba1869a5f364038838522f49c47cb68": {
          "model_module": "@jupyter-widgets/controls",
          "model_name": "HTMLModel",
          "model_module_version": "1.5.0",
          "state": {
            "_dom_classes": [],
            "_model_module": "@jupyter-widgets/controls",
            "_model_module_version": "1.5.0",
            "_model_name": "HTMLModel",
            "_view_count": null,
            "_view_module": "@jupyter-widgets/controls",
            "_view_module_version": "1.5.0",
            "_view_name": "HTMLView",
            "description": "",
            "description_tooltip": null,
            "layout": "IPY_MODEL_7de9cffdbe3849ee99cf2e20698b512c",
            "placeholder": "​",
            "style": "IPY_MODEL_2b4f9feb8cdb40beaff709a69e2a735e",
            "value": "tokenizer.json: 100%"
          }
        },
        "36111580dd02499da078ea25fb825033": {
          "model_module": "@jupyter-widgets/controls",
          "model_name": "FloatProgressModel",
          "model_module_version": "1.5.0",
          "state": {
            "_dom_classes": [],
            "_model_module": "@jupyter-widgets/controls",
            "_model_module_version": "1.5.0",
            "_model_name": "FloatProgressModel",
            "_view_count": null,
            "_view_module": "@jupyter-widgets/controls",
            "_view_module_version": "1.5.0",
            "_view_name": "ProgressView",
            "bar_style": "success",
            "description": "",
            "description_tooltip": null,
            "layout": "IPY_MODEL_52b30fe2dc6949f281129a8a05e61d14",
            "max": 1795303,
            "min": 0,
            "orientation": "horizontal",
            "style": "IPY_MODEL_981baff690144bdda3ec189630c9ada7",
            "value": 1795303
          }
        },
        "2b571bdd718f4f38b3c767f0d70986ea": {
          "model_module": "@jupyter-widgets/controls",
          "model_name": "HTMLModel",
          "model_module_version": "1.5.0",
          "state": {
            "_dom_classes": [],
            "_model_module": "@jupyter-widgets/controls",
            "_model_module_version": "1.5.0",
            "_model_name": "HTMLModel",
            "_view_count": null,
            "_view_module": "@jupyter-widgets/controls",
            "_view_module_version": "1.5.0",
            "_view_name": "HTMLView",
            "description": "",
            "description_tooltip": null,
            "layout": "IPY_MODEL_bd83dd5d57fb486eaa677d552eab4462",
            "placeholder": "​",
            "style": "IPY_MODEL_d52f472ca342476182da0115b532c1ca",
            "value": " 1.80M/1.80M [00:01&lt;00:00, 1.80MB/s]"
          }
        },
        "ac57b20091114bb4872845b3b21ab9d8": {
          "model_module": "@jupyter-widgets/base",
          "model_name": "LayoutModel",
          "model_module_version": "1.2.0",
          "state": {
            "_model_module": "@jupyter-widgets/base",
            "_model_module_version": "1.2.0",
            "_model_name": "LayoutModel",
            "_view_count": null,
            "_view_module": "@jupyter-widgets/base",
            "_view_module_version": "1.2.0",
            "_view_name": "LayoutView",
            "align_content": null,
            "align_items": null,
            "align_self": null,
            "border": null,
            "bottom": null,
            "display": null,
            "flex": null,
            "flex_flow": null,
            "grid_area": null,
            "grid_auto_columns": null,
            "grid_auto_flow": null,
            "grid_auto_rows": null,
            "grid_column": null,
            "grid_gap": null,
            "grid_row": null,
            "grid_template_areas": null,
            "grid_template_columns": null,
            "grid_template_rows": null,
            "height": null,
            "justify_content": null,
            "justify_items": null,
            "left": null,
            "margin": null,
            "max_height": null,
            "max_width": null,
            "min_height": null,
            "min_width": null,
            "object_fit": null,
            "object_position": null,
            "order": null,
            "overflow": null,
            "overflow_x": null,
            "overflow_y": null,
            "padding": null,
            "right": null,
            "top": null,
            "visibility": null,
            "width": null
          }
        },
        "7de9cffdbe3849ee99cf2e20698b512c": {
          "model_module": "@jupyter-widgets/base",
          "model_name": "LayoutModel",
          "model_module_version": "1.2.0",
          "state": {
            "_model_module": "@jupyter-widgets/base",
            "_model_module_version": "1.2.0",
            "_model_name": "LayoutModel",
            "_view_count": null,
            "_view_module": "@jupyter-widgets/base",
            "_view_module_version": "1.2.0",
            "_view_name": "LayoutView",
            "align_content": null,
            "align_items": null,
            "align_self": null,
            "border": null,
            "bottom": null,
            "display": null,
            "flex": null,
            "flex_flow": null,
            "grid_area": null,
            "grid_auto_columns": null,
            "grid_auto_flow": null,
            "grid_auto_rows": null,
            "grid_column": null,
            "grid_gap": null,
            "grid_row": null,
            "grid_template_areas": null,
            "grid_template_columns": null,
            "grid_template_rows": null,
            "height": null,
            "justify_content": null,
            "justify_items": null,
            "left": null,
            "margin": null,
            "max_height": null,
            "max_width": null,
            "min_height": null,
            "min_width": null,
            "object_fit": null,
            "object_position": null,
            "order": null,
            "overflow": null,
            "overflow_x": null,
            "overflow_y": null,
            "padding": null,
            "right": null,
            "top": null,
            "visibility": null,
            "width": null
          }
        },
        "2b4f9feb8cdb40beaff709a69e2a735e": {
          "model_module": "@jupyter-widgets/controls",
          "model_name": "DescriptionStyleModel",
          "model_module_version": "1.5.0",
          "state": {
            "_model_module": "@jupyter-widgets/controls",
            "_model_module_version": "1.5.0",
            "_model_name": "DescriptionStyleModel",
            "_view_count": null,
            "_view_module": "@jupyter-widgets/base",
            "_view_module_version": "1.2.0",
            "_view_name": "StyleView",
            "description_width": ""
          }
        },
        "52b30fe2dc6949f281129a8a05e61d14": {
          "model_module": "@jupyter-widgets/base",
          "model_name": "LayoutModel",
          "model_module_version": "1.2.0",
          "state": {
            "_model_module": "@jupyter-widgets/base",
            "_model_module_version": "1.2.0",
            "_model_name": "LayoutModel",
            "_view_count": null,
            "_view_module": "@jupyter-widgets/base",
            "_view_module_version": "1.2.0",
            "_view_name": "LayoutView",
            "align_content": null,
            "align_items": null,
            "align_self": null,
            "border": null,
            "bottom": null,
            "display": null,
            "flex": null,
            "flex_flow": null,
            "grid_area": null,
            "grid_auto_columns": null,
            "grid_auto_flow": null,
            "grid_auto_rows": null,
            "grid_column": null,
            "grid_gap": null,
            "grid_row": null,
            "grid_template_areas": null,
            "grid_template_columns": null,
            "grid_template_rows": null,
            "height": null,
            "justify_content": null,
            "justify_items": null,
            "left": null,
            "margin": null,
            "max_height": null,
            "max_width": null,
            "min_height": null,
            "min_width": null,
            "object_fit": null,
            "object_position": null,
            "order": null,
            "overflow": null,
            "overflow_x": null,
            "overflow_y": null,
            "padding": null,
            "right": null,
            "top": null,
            "visibility": null,
            "width": null
          }
        },
        "981baff690144bdda3ec189630c9ada7": {
          "model_module": "@jupyter-widgets/controls",
          "model_name": "ProgressStyleModel",
          "model_module_version": "1.5.0",
          "state": {
            "_model_module": "@jupyter-widgets/controls",
            "_model_module_version": "1.5.0",
            "_model_name": "ProgressStyleModel",
            "_view_count": null,
            "_view_module": "@jupyter-widgets/base",
            "_view_module_version": "1.2.0",
            "_view_name": "StyleView",
            "bar_color": null,
            "description_width": ""
          }
        },
        "bd83dd5d57fb486eaa677d552eab4462": {
          "model_module": "@jupyter-widgets/base",
          "model_name": "LayoutModel",
          "model_module_version": "1.2.0",
          "state": {
            "_model_module": "@jupyter-widgets/base",
            "_model_module_version": "1.2.0",
            "_model_name": "LayoutModel",
            "_view_count": null,
            "_view_module": "@jupyter-widgets/base",
            "_view_module_version": "1.2.0",
            "_view_name": "LayoutView",
            "align_content": null,
            "align_items": null,
            "align_self": null,
            "border": null,
            "bottom": null,
            "display": null,
            "flex": null,
            "flex_flow": null,
            "grid_area": null,
            "grid_auto_columns": null,
            "grid_auto_flow": null,
            "grid_auto_rows": null,
            "grid_column": null,
            "grid_gap": null,
            "grid_row": null,
            "grid_template_areas": null,
            "grid_template_columns": null,
            "grid_template_rows": null,
            "height": null,
            "justify_content": null,
            "justify_items": null,
            "left": null,
            "margin": null,
            "max_height": null,
            "max_width": null,
            "min_height": null,
            "min_width": null,
            "object_fit": null,
            "object_position": null,
            "order": null,
            "overflow": null,
            "overflow_x": null,
            "overflow_y": null,
            "padding": null,
            "right": null,
            "top": null,
            "visibility": null,
            "width": null
          }
        },
        "d52f472ca342476182da0115b532c1ca": {
          "model_module": "@jupyter-widgets/controls",
          "model_name": "DescriptionStyleModel",
          "model_module_version": "1.5.0",
          "state": {
            "_model_module": "@jupyter-widgets/controls",
            "_model_module_version": "1.5.0",
            "_model_name": "DescriptionStyleModel",
            "_view_count": null,
            "_view_module": "@jupyter-widgets/base",
            "_view_module_version": "1.2.0",
            "_view_name": "StyleView",
            "description_width": ""
          }
        },
        "13237b9e09124835b7cbb6e5b00b5565": {
          "model_module": "@jupyter-widgets/controls",
          "model_name": "HBoxModel",
          "model_module_version": "1.5.0",
          "state": {
            "_dom_classes": [],
            "_model_module": "@jupyter-widgets/controls",
            "_model_module_version": "1.5.0",
            "_model_name": "HBoxModel",
            "_view_count": null,
            "_view_module": "@jupyter-widgets/controls",
            "_view_module_version": "1.5.0",
            "_view_name": "HBoxView",
            "box_style": "",
            "children": [
              "IPY_MODEL_7046d16fd76044469dad485ce9257047",
              "IPY_MODEL_dc78b911e30c4a518cee990e3a8059be",
              "IPY_MODEL_15e0a584466e45eebefce1e5eea0a17e"
            ],
            "layout": "IPY_MODEL_404cba34a75b4ab084aca324a9fc3d44"
          }
        },
        "7046d16fd76044469dad485ce9257047": {
          "model_module": "@jupyter-widgets/controls",
          "model_name": "HTMLModel",
          "model_module_version": "1.5.0",
          "state": {
            "_dom_classes": [],
            "_model_module": "@jupyter-widgets/controls",
            "_model_module_version": "1.5.0",
            "_model_name": "HTMLModel",
            "_view_count": null,
            "_view_module": "@jupyter-widgets/controls",
            "_view_module_version": "1.5.0",
            "_view_name": "HTMLView",
            "description": "",
            "description_tooltip": null,
            "layout": "IPY_MODEL_4f316f6197c44fe3a51c6fc6f1c3de08",
            "placeholder": "​",
            "style": "IPY_MODEL_12212f5edd314f8783bda2faf0356278",
            "value": "special_tokens_map.json: 100%"
          }
        },
        "dc78b911e30c4a518cee990e3a8059be": {
          "model_module": "@jupyter-widgets/controls",
          "model_name": "FloatProgressModel",
          "model_module_version": "1.5.0",
          "state": {
            "_dom_classes": [],
            "_model_module": "@jupyter-widgets/controls",
            "_model_module_version": "1.5.0",
            "_model_name": "FloatProgressModel",
            "_view_count": null,
            "_view_module": "@jupyter-widgets/controls",
            "_view_module_version": "1.5.0",
            "_view_name": "ProgressView",
            "bar_style": "success",
            "description": "",
            "description_tooltip": null,
            "layout": "IPY_MODEL_2f76b12214794128a61468acba6d1284",
            "max": 72,
            "min": 0,
            "orientation": "horizontal",
            "style": "IPY_MODEL_aa5eaf861cdc4d8ebadfce90d30f5238",
            "value": 72
          }
        },
        "15e0a584466e45eebefce1e5eea0a17e": {
          "model_module": "@jupyter-widgets/controls",
          "model_name": "HTMLModel",
          "model_module_version": "1.5.0",
          "state": {
            "_dom_classes": [],
            "_model_module": "@jupyter-widgets/controls",
            "_model_module_version": "1.5.0",
            "_model_name": "HTMLModel",
            "_view_count": null,
            "_view_module": "@jupyter-widgets/controls",
            "_view_module_version": "1.5.0",
            "_view_name": "HTMLView",
            "description": "",
            "description_tooltip": null,
            "layout": "IPY_MODEL_6b10b16e3eaf4fa8a34244b964109f5b",
            "placeholder": "​",
            "style": "IPY_MODEL_62844f9e4b4c4580b932be446ba342d4",
            "value": " 72.0/72.0 [00:00&lt;00:00, 2.08kB/s]"
          }
        },
        "404cba34a75b4ab084aca324a9fc3d44": {
          "model_module": "@jupyter-widgets/base",
          "model_name": "LayoutModel",
          "model_module_version": "1.2.0",
          "state": {
            "_model_module": "@jupyter-widgets/base",
            "_model_module_version": "1.2.0",
            "_model_name": "LayoutModel",
            "_view_count": null,
            "_view_module": "@jupyter-widgets/base",
            "_view_module_version": "1.2.0",
            "_view_name": "LayoutView",
            "align_content": null,
            "align_items": null,
            "align_self": null,
            "border": null,
            "bottom": null,
            "display": null,
            "flex": null,
            "flex_flow": null,
            "grid_area": null,
            "grid_auto_columns": null,
            "grid_auto_flow": null,
            "grid_auto_rows": null,
            "grid_column": null,
            "grid_gap": null,
            "grid_row": null,
            "grid_template_areas": null,
            "grid_template_columns": null,
            "grid_template_rows": null,
            "height": null,
            "justify_content": null,
            "justify_items": null,
            "left": null,
            "margin": null,
            "max_height": null,
            "max_width": null,
            "min_height": null,
            "min_width": null,
            "object_fit": null,
            "object_position": null,
            "order": null,
            "overflow": null,
            "overflow_x": null,
            "overflow_y": null,
            "padding": null,
            "right": null,
            "top": null,
            "visibility": null,
            "width": null
          }
        },
        "4f316f6197c44fe3a51c6fc6f1c3de08": {
          "model_module": "@jupyter-widgets/base",
          "model_name": "LayoutModel",
          "model_module_version": "1.2.0",
          "state": {
            "_model_module": "@jupyter-widgets/base",
            "_model_module_version": "1.2.0",
            "_model_name": "LayoutModel",
            "_view_count": null,
            "_view_module": "@jupyter-widgets/base",
            "_view_module_version": "1.2.0",
            "_view_name": "LayoutView",
            "align_content": null,
            "align_items": null,
            "align_self": null,
            "border": null,
            "bottom": null,
            "display": null,
            "flex": null,
            "flex_flow": null,
            "grid_area": null,
            "grid_auto_columns": null,
            "grid_auto_flow": null,
            "grid_auto_rows": null,
            "grid_column": null,
            "grid_gap": null,
            "grid_row": null,
            "grid_template_areas": null,
            "grid_template_columns": null,
            "grid_template_rows": null,
            "height": null,
            "justify_content": null,
            "justify_items": null,
            "left": null,
            "margin": null,
            "max_height": null,
            "max_width": null,
            "min_height": null,
            "min_width": null,
            "object_fit": null,
            "object_position": null,
            "order": null,
            "overflow": null,
            "overflow_x": null,
            "overflow_y": null,
            "padding": null,
            "right": null,
            "top": null,
            "visibility": null,
            "width": null
          }
        },
        "12212f5edd314f8783bda2faf0356278": {
          "model_module": "@jupyter-widgets/controls",
          "model_name": "DescriptionStyleModel",
          "model_module_version": "1.5.0",
          "state": {
            "_model_module": "@jupyter-widgets/controls",
            "_model_module_version": "1.5.0",
            "_model_name": "DescriptionStyleModel",
            "_view_count": null,
            "_view_module": "@jupyter-widgets/base",
            "_view_module_version": "1.2.0",
            "_view_name": "StyleView",
            "description_width": ""
          }
        },
        "2f76b12214794128a61468acba6d1284": {
          "model_module": "@jupyter-widgets/base",
          "model_name": "LayoutModel",
          "model_module_version": "1.2.0",
          "state": {
            "_model_module": "@jupyter-widgets/base",
            "_model_module_version": "1.2.0",
            "_model_name": "LayoutModel",
            "_view_count": null,
            "_view_module": "@jupyter-widgets/base",
            "_view_module_version": "1.2.0",
            "_view_name": "LayoutView",
            "align_content": null,
            "align_items": null,
            "align_self": null,
            "border": null,
            "bottom": null,
            "display": null,
            "flex": null,
            "flex_flow": null,
            "grid_area": null,
            "grid_auto_columns": null,
            "grid_auto_flow": null,
            "grid_auto_rows": null,
            "grid_column": null,
            "grid_gap": null,
            "grid_row": null,
            "grid_template_areas": null,
            "grid_template_columns": null,
            "grid_template_rows": null,
            "height": null,
            "justify_content": null,
            "justify_items": null,
            "left": null,
            "margin": null,
            "max_height": null,
            "max_width": null,
            "min_height": null,
            "min_width": null,
            "object_fit": null,
            "object_position": null,
            "order": null,
            "overflow": null,
            "overflow_x": null,
            "overflow_y": null,
            "padding": null,
            "right": null,
            "top": null,
            "visibility": null,
            "width": null
          }
        },
        "aa5eaf861cdc4d8ebadfce90d30f5238": {
          "model_module": "@jupyter-widgets/controls",
          "model_name": "ProgressStyleModel",
          "model_module_version": "1.5.0",
          "state": {
            "_model_module": "@jupyter-widgets/controls",
            "_model_module_version": "1.5.0",
            "_model_name": "ProgressStyleModel",
            "_view_count": null,
            "_view_module": "@jupyter-widgets/base",
            "_view_module_version": "1.2.0",
            "_view_name": "StyleView",
            "bar_color": null,
            "description_width": ""
          }
        },
        "6b10b16e3eaf4fa8a34244b964109f5b": {
          "model_module": "@jupyter-widgets/base",
          "model_name": "LayoutModel",
          "model_module_version": "1.2.0",
          "state": {
            "_model_module": "@jupyter-widgets/base",
            "_model_module_version": "1.2.0",
            "_model_name": "LayoutModel",
            "_view_count": null,
            "_view_module": "@jupyter-widgets/base",
            "_view_module_version": "1.2.0",
            "_view_name": "LayoutView",
            "align_content": null,
            "align_items": null,
            "align_self": null,
            "border": null,
            "bottom": null,
            "display": null,
            "flex": null,
            "flex_flow": null,
            "grid_area": null,
            "grid_auto_columns": null,
            "grid_auto_flow": null,
            "grid_auto_rows": null,
            "grid_column": null,
            "grid_gap": null,
            "grid_row": null,
            "grid_template_areas": null,
            "grid_template_columns": null,
            "grid_template_rows": null,
            "height": null,
            "justify_content": null,
            "justify_items": null,
            "left": null,
            "margin": null,
            "max_height": null,
            "max_width": null,
            "min_height": null,
            "min_width": null,
            "object_fit": null,
            "object_position": null,
            "order": null,
            "overflow": null,
            "overflow_x": null,
            "overflow_y": null,
            "padding": null,
            "right": null,
            "top": null,
            "visibility": null,
            "width": null
          }
        },
        "62844f9e4b4c4580b932be446ba342d4": {
          "model_module": "@jupyter-widgets/controls",
          "model_name": "DescriptionStyleModel",
          "model_module_version": "1.5.0",
          "state": {
            "_model_module": "@jupyter-widgets/controls",
            "_model_module_version": "1.5.0",
            "_model_name": "DescriptionStyleModel",
            "_view_count": null,
            "_view_module": "@jupyter-widgets/base",
            "_view_module_version": "1.2.0",
            "_view_name": "StyleView",
            "description_width": ""
          }
        }
      }
    }
  },
  "cells": [
    {
      "cell_type": "markdown",
      "metadata": {
        "id": "view-in-github",
        "colab_type": "text"
      },
      "source": [
        "<a href=\"https://colab.research.google.com/github/KJTDHISAW/Fine_Tuning_PlinAI/blob/main/Fine_Tuning_Dataset.ipynb\" target=\"_parent\"><img src=\"https://colab.research.google.com/assets/colab-badge.svg\" alt=\"Open In Colab\"/></a>"
      ]
    },
    {
      "cell_type": "code",
      "source": [
        "print('Mahna Mahna')"
      ],
      "metadata": {
        "colab": {
          "base_uri": "https://localhost:8080/"
        },
        "id": "5uYJtcGYc61S",
        "outputId": "bc8e6a25-3614-4891-c09f-8904be436795"
      },
      "execution_count": 1,
      "outputs": [
        {
          "output_type": "stream",
          "name": "stdout",
          "text": [
            "Mahna Mahna\n"
          ]
        }
      ]
    },
    {
      "cell_type": "markdown",
      "source": [
        "##Imports"
      ],
      "metadata": {
        "id": "jbGZ85QWHzgh"
      }
    },
    {
      "cell_type": "code",
      "source": [
        "import nltk\n",
        "import pandas as pd\n",
        "import re\n",
        "from tabulate import tabulate\n",
        "import numpy as np\n",
        "import spacy\n",
        "from spacy import displacy\n",
        "from spacy.lang.la import Latin"
      ],
      "metadata": {
        "id": "yUOSNVcIzgdi"
      },
      "execution_count": 2,
      "outputs": []
    },
    {
      "cell_type": "markdown",
      "source": [
        "## Load Drive"
      ],
      "metadata": {
        "id": "50dRVYXspdfs"
      }
    },
    {
      "cell_type": "code",
      "source": [
        "from google.colab import drive\n",
        "\n",
        "# This will prompt for authorization.\n",
        "drive.mount('/content/drive')\n"
      ],
      "metadata": {
        "colab": {
          "base_uri": "https://localhost:8080/"
        },
        "id": "KpWtEoBDvHIy",
        "outputId": "78bb057e-49a1-48df-c2c5-27e39adfdced"
      },
      "execution_count": 3,
      "outputs": [
        {
          "output_type": "stream",
          "name": "stdout",
          "text": [
            "Mounted at /content/drive\n"
          ]
        }
      ]
    },
    {
      "cell_type": "code",
      "source": [
        "!ls /content/drive/MyDrive"
      ],
      "metadata": {
        "id": "j0Kono2KvQsm",
        "colab": {
          "base_uri": "https://localhost:8080/"
        },
        "outputId": "b14e4c0a-a8af-406f-d3bb-6e1a66e8fe61"
      },
      "execution_count": 3,
      "outputs": [
        {
          "output_type": "stream",
          "name": "stdout",
          "text": [
            "'Colab Notebooks'\n"
          ]
        }
      ]
    },
    {
      "cell_type": "markdown",
      "source": [
        "## Load CLTK"
      ],
      "metadata": {
        "id": "Y0X6ornXvqDb"
      }
    },
    {
      "cell_type": "code",
      "source": [
        "# I have had some ongoing trouble with getting la_core_web_lg to work alongside the cltk_readers\n",
        "# There seems to be a spacy verson incompatability\n",
        "#(Thus far skipping this step works, but sometimes if cltk isn't\n",
        "# working on my comp for some reason I'll just download la_core_web_lg and a\n",
        "# bunch of processing can be achieved anyway.)\n",
        "#!pip install https://huggingface.co/latincy/la_core_web_lg/resolve/main/la_core_web_lg-any-py3-none-any.whl"
      ],
      "metadata": {
        "id": "2bPJhCQovpTr"
      },
      "execution_count": null,
      "outputs": []
    },
    {
      "cell_type": "code",
      "source": [
        "# You might have to restart runtime - I do everytime I start a session fresh\n",
        "#!pip install spacy==3.6.0\n",
        "#!pip install -e git+https://github.com/diyclassics/cltk_readers.git#egg=cltk_readers"
      ],
      "metadata": {
        "id": "RNnBsuybzaGE"
      },
      "execution_count": null,
      "outputs": []
    },
    {
      "cell_type": "code",
      "source": [
        "#!pip install roman #there are still some modern critical edition roman numerals\n",
        "#in Pliny, but also a number of numbers given by Pliny, so I'm working to see\n",
        "#how best to preprocess the text"
      ],
      "metadata": {
        "id": "x6eHIOpPBuvq"
      },
      "execution_count": null,
      "outputs": []
    },
    {
      "cell_type": "code",
      "source": [
        "import la_core_web_lg\n",
        "nlp = la_core_web_lg.load()"
      ],
      "metadata": {
        "id": "pBdO3xPy4ROX"
      },
      "execution_count": 4,
      "outputs": []
    },
    {
      "cell_type": "code",
      "source": [
        "from cltkreaders.lat import LatinTesseraeCorpusReader\n",
        "\n",
        "CR = LatinTesseraeCorpusReader()\n",
        "CR_fileids = CR.fileids(match='pliny_the_elder')\n",
        "CR_fileids"
      ],
      "metadata": {
        "colab": {
          "base_uri": "https://localhost:8080/"
        },
        "id": "8mbLrDqw4RY6",
        "outputId": "ddc65cf9-c994-4707-8012-9a8b40375d06"
      },
      "execution_count": 5,
      "outputs": [
        {
          "name": "stdout",
          "output_type": "stream",
          "text": [
            "CLTK message: Unless a path is specifically passed to the 'root' parameter, this corpus reader expects to find the CLTK-Tesserae texts at lat/text/lat_text_tesserae/texts.\n",
            "Do you want to download CLTK-Tesserae Latin files? [Y/n] \n",
            "Y\n"
          ]
        },
        {
          "output_type": "stream",
          "name": "stderr",
          "text": [
            "INFO:CLTK:Cloning 'lat_text_tesserae' from 'https://github.com/cltk/lat_text_tesserae.git'\n"
          ]
        },
        {
          "output_type": "stream",
          "name": "stdout",
          "text": []
        },
        {
          "output_type": "stream",
          "name": "stderr",
          "text": [
            "INFO:CLTK:Cloning 'lat_models_cltk' from 'https://github.com/cltk/lat_models_cltk.git'\n"
          ]
        },
        {
          "output_type": "stream",
          "name": "stdout",
          "text": []
        },
        {
          "output_type": "execute_result",
          "data": {
            "text/plain": [
              "['pliny_the_elder.naturalis_historia.part.1.books_1-5.tess',\n",
              " 'pliny_the_elder.naturalis_historia.part.2.books_6-10.tess',\n",
              " 'pliny_the_elder.naturalis_historia.part.3.books_11-15.tess',\n",
              " 'pliny_the_elder.naturalis_historia.part.4.books_16-20.tess',\n",
              " 'pliny_the_elder.naturalis_historia.part.5.books_21-25.tess',\n",
              " 'pliny_the_elder.naturalis_historia.part.6.books_26-30.tess',\n",
              " 'pliny_the_elder.naturalis_historia.part.7.books_31-37.tess']"
            ]
          },
          "metadata": {},
          "execution_count": 5
        }
      ]
    },
    {
      "cell_type": "markdown",
      "source": [
        "## Preprocess text"
      ],
      "metadata": {
        "id": "N-MhQ5CztcVl"
      }
    },
    {
      "cell_type": "code",
      "source": [
        "data = []\n",
        "\n",
        "def process_tess_line(line):\n",
        "    line = re.sub(r'\\s', ' ', line)\n",
        "\n",
        "    match = re.match(r'<([^<>]+)>\\s*([^<>]+(?:\\s*\\d*\\s*[^<>]+)*)', line)\n",
        "\n",
        "    if match:\n",
        "        label = match.group(1)\n",
        "        sentence = match.group(2)\n",
        "\n",
        "        latin_chars_only = re.sub(r'[^\\x00-\\x7F]+', ' ', sentence)\n",
        "        clean_sentence = re.sub(r'[^\\w\\s]', '', latin_chars_only)\n",
        "\n",
        "        doc = nlp(clean_sentence)\n",
        "        lemmas_list = [token.lemma_ for token in doc]\n",
        "        pos_list = [token.pos_ for token in doc]\n",
        "\n",
        "        line_data = {'label': label, 'sentence': clean_sentence, 'lemmas': lemmas_list, 'pos': pos_list}\n",
        "        data.append(line_data)\n",
        "\n",
        "for fileid in CR_fileids:\n",
        "    file_content = CR.raw(fileids=[fileid])\n",
        "    lines = file_content.split('\\n')\n",
        "\n",
        "    for line in lines:\n",
        "        process_tess_line(line)\n",
        "\n",
        "plin_df7 = pd.DataFrame(data)\n"
      ],
      "metadata": {
        "id": "VJKzjvmMqqbk"
      },
      "execution_count": 6,
      "outputs": []
    },
    {
      "cell_type": "code",
      "source": [
        "print(plin_df7)"
      ],
      "metadata": {
        "colab": {
          "base_uri": "https://localhost:8080/"
        },
        "id": "nE9lXvJR4Rkz",
        "outputId": "c7abf12e-9401-40ae-8638-1d8129b620f2"
      },
      "execution_count": 7,
      "outputs": [
        {
          "output_type": "stream",
          "name": "stdout",
          "text": [
            "                 label                                           sentence  \\\n",
            "0       plin. nat. 1.1  libro ii continentvr an finitus sit mundus et ...   \n",
            "1       plin. nat. 1.2  ex avctoribvs M Varrone sulpicio gallo tito ca...   \n",
            "2       plin. nat. 1.3  externis hipparcho timaeo sosigene petosiri ne...   \n",
            "3       plin. nat. 1.4  l iii continentvr situs gentes maria oppida po...   \n",
            "4       plin. nat. 1.5  ex avctoribvs turranio gracile cornelio nepote...   \n",
            "...                ...                                                ...   \n",
            "2852  plin. nat. 37.74  veras a falsis discernere magna difficultas qu...   \n",
            "2853  plin. nat. 37.75  gemmiferi amnes sunt acesinus et ganges terrar...   \n",
            "2854  plin. nat. 37.76  ergo in toto orbe quacumque caeli convexitas v...   \n",
            "2855  plin. nat. 37.77  rerum autem ipsarum maximum est pretium in mar...   \n",
            "2856  plin. nat. 37.78  salve parens rerum omnium natura teque nobis q...   \n",
            "\n",
            "                                                 lemmas  \\\n",
            "0     [liber, is, continentvr, an, finitus, sum, mun...   \n",
            "1     [ex, avctoribvss, Marcus, Uarro, sulpicius, ga...   \n",
            "2     [externus, hipparchus, timaeus, sosigene, peto...   \n",
            "3     [l, iii, continentvr, situs, gens, maria, oppi...   \n",
            "4     [ex, avctoribvss, turranius, gracile, corneliu...   \n",
            "...                                                 ...   \n",
            "2852  [uero, ab, falsus, discerno, magnus, difficult...   \n",
            "2853  [gemmiferus, amn, sum, acesinus, et, ganges, t...   \n",
            "2854  [ergo, in, totus, orbis, quicumque, caelum, co...   \n",
            "2855  [res, autem, ipse, magnus, sum, pretium, in, m...   \n",
            "2856  [salueo, parens, res, omnis, natura, tu, que, ...   \n",
            "\n",
            "                                                    pos  \n",
            "0     [NOUN, PRON, ADP, PART, VERB, AUX, NOUN, CCONJ...  \n",
            "1     [ADP, NOUN, PROPN, PROPN, ADJ, NOUN, VERB, NOU...  \n",
            "2     [ADJ, NOUN, NOUN, ADV, VERB, ADV, NOUN, NOUN, ...  \n",
            "3     [VERB, ADV, ADV, NOUN, NOUN, PROPN, NOUN, NOUN...  \n",
            "4     [ADP, NOUN, NOUN, ADJ, NOUN, NOUN, ADP, NOUN, ...  \n",
            "...                                                 ...  \n",
            "2852  [ADJ, ADP, ADJ, VERB, ADJ, NOUN, ADV, SCONJ, V...  \n",
            "2853  [ADJ, NOUN, AUX, ADJ, CCONJ, NOUN, NOUN, ADV, ...  \n",
            "2854  [ADV, ADP, ADJ, NOUN, ADJ, NOUN, NOUN, VERB, A...  \n",
            "2855  [NOUN, CCONJ, DET, ADJ, AUX, NOUN, ADP, NOUN, ...  \n",
            "2856  [VERB, NOUN, NOUN, ADJ, NOUN, PRON, CCONJ, PRO...  \n",
            "\n",
            "[2857 rows x 4 columns]\n"
          ]
        }
      ]
    },
    {
      "cell_type": "code",
      "source": [
        "empty_rows = plin_df7[plin_df7.isna().any(axis=1)]\n",
        "print(empty_rows[['label', 'sentence', 'lemmas', 'pos']])\n"
      ],
      "metadata": {
        "colab": {
          "base_uri": "https://localhost:8080/"
        },
        "id": "aip6ER4n4Rpp",
        "outputId": "453e03eb-b4e8-4fa6-abcc-302c3542e767"
      },
      "execution_count": 8,
      "outputs": [
        {
          "output_type": "stream",
          "name": "stdout",
          "text": [
            "Empty DataFrame\n",
            "Columns: [label, sentence, lemmas, pos]\n",
            "Index: []\n"
          ]
        }
      ]
    },
    {
      "cell_type": "code",
      "source": [
        "plin_df7.to_csv('/content/drive/MyDrive/plin_df7.csv', index=False, encoding='utf-8')"
      ],
      "metadata": {
        "id": "84BNqLGADXJy"
      },
      "execution_count": 9,
      "outputs": []
    },
    {
      "cell_type": "markdown",
      "source": [
        "## CV and TFIDF dataset"
      ],
      "metadata": {
        "id": "4Mflquydtg5u"
      }
    },
    {
      "cell_type": "code",
      "source": [
        "from sklearn.feature_extraction.text import CountVectorizer\n",
        "\n",
        "plin_df7['joined_lemmas'] = plin_df7['lemmas'].apply(lambda lemmas: ' '.join(lemmas))\n",
        "\n",
        "def filter_tokens(doc, unwanted_pos=['ADP', 'CCONJ', 'PUNCT', \"PRON\", \"AUX\", \"DET\"]):\n",
        "    return [token.lemma_ for token in doc if token.pos_ not in unwanted_pos]\n",
        "\n",
        "plin_df7['filtered_joined_lemmas'] = plin_df7['joined_lemmas'].apply(lambda lemmas: ' '.join(filter_tokens(nlp(lemmas))))\n",
        "\n",
        "custom_token_pattern = r'\\b[^\\W\\d_]+\\b'\n",
        "cv = CountVectorizer(token_pattern=custom_token_pattern)\n",
        "cv_matrix = cv.fit_transform(plin_df7['filtered_joined_lemmas'])\n",
        "cv_feature_names = cv.get_feature_names_out()\n",
        "cv_df = pd.DataFrame(cv_matrix.toarray(), columns=cv_feature_names)\n",
        "\n",
        "print(cv_df)"
      ],
      "metadata": {
        "colab": {
          "base_uri": "https://localhost:8080/"
        },
        "id": "Jk254oS44Rtx",
        "outputId": "0b9d0e2c-8eef-44cb-fd11-fdc000f1a25d"
      },
      "execution_count": 10,
      "outputs": [
        {
          "output_type": "stream",
          "name": "stdout",
          "text": [
            "      a  aacroceraunius  aadvesperaveos  aaeuus  aaevum  aaliterua  \\\n",
            "0     0               0               0       0       0          0   \n",
            "1     0               0               0       0       0          0   \n",
            "2     0               0               0       0       0          0   \n",
            "3     0               0               0       0       0          0   \n",
            "4     0               0               0       0       0          0   \n",
            "...  ..             ...             ...     ...     ...        ...   \n",
            "2852  0               0               0       0       0          0   \n",
            "2853  0               0               0       0       0          0   \n",
            "2854  0               0               0       0       0          0   \n",
            "2855  0               0               0       0       0          0   \n",
            "2856  0               0               0       0       0          0   \n",
            "\n",
            "      aaparctias  aapis  aapodas  aaraxos  ...  zoster  zotha  zoton  zulilus  \\\n",
            "0              0      0        0        0  ...       0      0      0        0   \n",
            "1              0      0        0        0  ...       0      0      0        0   \n",
            "2              0      0        0        0  ...       0      0      0        0   \n",
            "3              0      0        0        0  ...       0      0      0        0   \n",
            "4              0      0        0        0  ...       0      0      0        0   \n",
            "...          ...    ...      ...      ...  ...     ...    ...    ...      ...   \n",
            "2852           0      0        0        0  ...       0      0      0        0   \n",
            "2853           0      0        0        0  ...       0      0      0        0   \n",
            "2854           0      0        0        0  ...       0      0      0        0   \n",
            "2855           0      0        0        0  ...       0      0      0        0   \n",
            "2856           0      0        0        0  ...       0      0      0        0   \n",
            "\n",
            "      zura  zygeo  zygian  zyra  zytho  zythus  \n",
            "0        0      0       0     0      0       0  \n",
            "1        0      0       0     0      0       0  \n",
            "2        0      0       0     0      0       0  \n",
            "3        0      0       0     0      0       0  \n",
            "4        0      0       0     0      0       0  \n",
            "...    ...    ...     ...   ...    ...     ...  \n",
            "2852     0      0       0     0      0       0  \n",
            "2853     0      0       0     0      0       0  \n",
            "2854     0      0       0     0      0       0  \n",
            "2855     0      0       0     0      0       0  \n",
            "2856     0      0       0     0      0       0  \n",
            "\n",
            "[2857 rows x 36105 columns]\n"
          ]
        }
      ]
    },
    {
      "cell_type": "code",
      "source": [
        "cv_df.to_csv('/content/drive/MyDrive/plin_cv_df7.csv', index=False, encoding='utf-8')"
      ],
      "metadata": {
        "id": "eKP_dnfZkS2g"
      },
      "execution_count": 11,
      "outputs": []
    },
    {
      "cell_type": "code",
      "source": [
        "print(plin_df7[['label', 'sentence', 'lemmas', 'pos', 'joined_lemmas', 'filtered_joined_lemmas']])"
      ],
      "metadata": {
        "colab": {
          "base_uri": "https://localhost:8080/"
        },
        "id": "I5e9i5thUs9g",
        "outputId": "281f74e2-d782-43eb-c7f8-9f775c2920ab"
      },
      "execution_count": 12,
      "outputs": [
        {
          "output_type": "stream",
          "name": "stdout",
          "text": [
            "                 label                                           sentence  \\\n",
            "0       plin. nat. 1.1  libro ii continentvr an finitus sit mundus et ...   \n",
            "1       plin. nat. 1.2  ex avctoribvs M Varrone sulpicio gallo tito ca...   \n",
            "2       plin. nat. 1.3  externis hipparcho timaeo sosigene petosiri ne...   \n",
            "3       plin. nat. 1.4  l iii continentvr situs gentes maria oppida po...   \n",
            "4       plin. nat. 1.5  ex avctoribvs turranio gracile cornelio nepote...   \n",
            "...                ...                                                ...   \n",
            "2852  plin. nat. 37.74  veras a falsis discernere magna difficultas qu...   \n",
            "2853  plin. nat. 37.75  gemmiferi amnes sunt acesinus et ganges terrar...   \n",
            "2854  plin. nat. 37.76  ergo in toto orbe quacumque caeli convexitas v...   \n",
            "2855  plin. nat. 37.77  rerum autem ipsarum maximum est pretium in mar...   \n",
            "2856  plin. nat. 37.78  salve parens rerum omnium natura teque nobis q...   \n",
            "\n",
            "                                                 lemmas  \\\n",
            "0     [liber, is, continentvr, an, finitus, sum, mun...   \n",
            "1     [ex, avctoribvss, Marcus, Uarro, sulpicius, ga...   \n",
            "2     [externus, hipparchus, timaeus, sosigene, peto...   \n",
            "3     [l, iii, continentvr, situs, gens, maria, oppi...   \n",
            "4     [ex, avctoribvss, turranius, gracile, corneliu...   \n",
            "...                                                 ...   \n",
            "2852  [uero, ab, falsus, discerno, magnus, difficult...   \n",
            "2853  [gemmiferus, amn, sum, acesinus, et, ganges, t...   \n",
            "2854  [ergo, in, totus, orbis, quicumque, caelum, co...   \n",
            "2855  [res, autem, ipse, magnus, sum, pretium, in, m...   \n",
            "2856  [salueo, parens, res, omnis, natura, tu, que, ...   \n",
            "\n",
            "                                                    pos  \\\n",
            "0     [NOUN, PRON, ADP, PART, VERB, AUX, NOUN, CCONJ...   \n",
            "1     [ADP, NOUN, PROPN, PROPN, ADJ, NOUN, VERB, NOU...   \n",
            "2     [ADJ, NOUN, NOUN, ADV, VERB, ADV, NOUN, NOUN, ...   \n",
            "3     [VERB, ADV, ADV, NOUN, NOUN, PROPN, NOUN, NOUN...   \n",
            "4     [ADP, NOUN, NOUN, ADJ, NOUN, NOUN, ADP, NOUN, ...   \n",
            "...                                                 ...   \n",
            "2852  [ADJ, ADP, ADJ, VERB, ADJ, NOUN, ADV, SCONJ, V...   \n",
            "2853  [ADJ, NOUN, AUX, ADJ, CCONJ, NOUN, NOUN, ADV, ...   \n",
            "2854  [ADV, ADP, ADJ, NOUN, ADJ, NOUN, NOUN, VERB, A...   \n",
            "2855  [NOUN, CCONJ, DET, ADJ, AUX, NOUN, ADP, NOUN, ...   \n",
            "2856  [VERB, NOUN, NOUN, ADJ, NOUN, PRON, CCONJ, PRO...   \n",
            "\n",
            "                                          joined_lemmas  \\\n",
            "0     liber is continentvr an finitus sum mundus et ...   \n",
            "1     ex avctoribvss Marcus Uarro sulpicius gallus t...   \n",
            "2     externus hipparchus timaeus sosigene petosio n...   \n",
            "3     l iii continentvr situs gens maria oppidum por...   \n",
            "4     ex avctoribvss turranius gracile cornelius nep...   \n",
            "...                                                 ...   \n",
            "2852  uero ab falsus discerno magnus difficultas qui...   \n",
            "2853  gemmiferus amn sum acesinus et ganges terra au...   \n",
            "2854  ergo in totus orbis quicumque caelum convexita...   \n",
            "2855  res autem ipse magnus sum pretium in mare nasc...   \n",
            "2856  salueo parens res omnis natura tu que nos quir...   \n",
            "\n",
            "                                 filtered_joined_lemmas  \n",
            "0     liber continentvrio an finitus mundus an unus ...  \n",
            "1     auctoribuss Marcus Uarro sulpicius gallus tio ...  \n",
            "2     externus hipparchus timaeus sosigene petosio n...  \n",
            "3     l iii continentvr situs gens maria oppidum por...  \n",
            "4     avctoribvss turranius gracile cornelus nepos l...  \n",
            "...                                                 ...  \n",
            "2852  uero falsus discernus magnus difficultas quipp...  \n",
            "2853  gemmiferus amn acesinus gango terra autem omni...  \n",
            "2854  ergo totus orbis quicumque caelum convexitas u...  \n",
            "2855  res magnus pretium mare nascus margarita tellu...  \n",
            "2856  salueo parens res omnis natura quiritium sol c...  \n",
            "\n",
            "[2857 rows x 6 columns]\n"
          ]
        }
      ]
    },
    {
      "cell_type": "code",
      "source": [
        "from sklearn.feature_extraction.text import TfidfVectorizer\n",
        "\n",
        "custom_token_pattern = r'\\b[^\\W\\d_]+\\b'\n",
        "tfidf_vectorizer = TfidfVectorizer(token_pattern=custom_token_pattern)\n",
        "tfidf_matrix = tfidf_vectorizer.fit_transform(plin_df7['filtered_joined_lemmas'])\n",
        "tfidf_feature_names = tfidf_vectorizer.get_feature_names_out()\n",
        "tfidf_df = pd.DataFrame(tfidf_matrix.toarray(), columns=tfidf_feature_names)\n",
        "\n",
        "print(tfidf_df)"
      ],
      "metadata": {
        "colab": {
          "base_uri": "https://localhost:8080/"
        },
        "id": "BBzE6AfXSG9_",
        "outputId": "7733d1f9-a370-4dca-d904-f24d28b9dc40"
      },
      "execution_count": 13,
      "outputs": [
        {
          "output_type": "stream",
          "name": "stdout",
          "text": [
            "        a  aacroceraunius  aadvesperaveos  aaeuus  aaevum  aaliterua  \\\n",
            "0     0.0             0.0             0.0     0.0     0.0        0.0   \n",
            "1     0.0             0.0             0.0     0.0     0.0        0.0   \n",
            "2     0.0             0.0             0.0     0.0     0.0        0.0   \n",
            "3     0.0             0.0             0.0     0.0     0.0        0.0   \n",
            "4     0.0             0.0             0.0     0.0     0.0        0.0   \n",
            "...   ...             ...             ...     ...     ...        ...   \n",
            "2852  0.0             0.0             0.0     0.0     0.0        0.0   \n",
            "2853  0.0             0.0             0.0     0.0     0.0        0.0   \n",
            "2854  0.0             0.0             0.0     0.0     0.0        0.0   \n",
            "2855  0.0             0.0             0.0     0.0     0.0        0.0   \n",
            "2856  0.0             0.0             0.0     0.0     0.0        0.0   \n",
            "\n",
            "      aaparctias  aapis  aapodas  aaraxos  ...  zoster  zotha  zoton  zulilus  \\\n",
            "0            0.0    0.0      0.0      0.0  ...     0.0    0.0    0.0      0.0   \n",
            "1            0.0    0.0      0.0      0.0  ...     0.0    0.0    0.0      0.0   \n",
            "2            0.0    0.0      0.0      0.0  ...     0.0    0.0    0.0      0.0   \n",
            "3            0.0    0.0      0.0      0.0  ...     0.0    0.0    0.0      0.0   \n",
            "4            0.0    0.0      0.0      0.0  ...     0.0    0.0    0.0      0.0   \n",
            "...          ...    ...      ...      ...  ...     ...    ...    ...      ...   \n",
            "2852         0.0    0.0      0.0      0.0  ...     0.0    0.0    0.0      0.0   \n",
            "2853         0.0    0.0      0.0      0.0  ...     0.0    0.0    0.0      0.0   \n",
            "2854         0.0    0.0      0.0      0.0  ...     0.0    0.0    0.0      0.0   \n",
            "2855         0.0    0.0      0.0      0.0  ...     0.0    0.0    0.0      0.0   \n",
            "2856         0.0    0.0      0.0      0.0  ...     0.0    0.0    0.0      0.0   \n",
            "\n",
            "      zura  zygeo  zygian  zyra  zytho  zythus  \n",
            "0      0.0    0.0     0.0   0.0    0.0     0.0  \n",
            "1      0.0    0.0     0.0   0.0    0.0     0.0  \n",
            "2      0.0    0.0     0.0   0.0    0.0     0.0  \n",
            "3      0.0    0.0     0.0   0.0    0.0     0.0  \n",
            "4      0.0    0.0     0.0   0.0    0.0     0.0  \n",
            "...    ...    ...     ...   ...    ...     ...  \n",
            "2852   0.0    0.0     0.0   0.0    0.0     0.0  \n",
            "2853   0.0    0.0     0.0   0.0    0.0     0.0  \n",
            "2854   0.0    0.0     0.0   0.0    0.0     0.0  \n",
            "2855   0.0    0.0     0.0   0.0    0.0     0.0  \n",
            "2856   0.0    0.0     0.0   0.0    0.0     0.0  \n",
            "\n",
            "[2857 rows x 36105 columns]\n"
          ]
        }
      ]
    },
    {
      "cell_type": "code",
      "source": [
        "tfidf_df.to_csv('/content/drive/MyDrive/plin_tfidf_df7.csv', index=False, encoding='utf-8')\n"
      ],
      "metadata": {
        "id": "06vSPDiykZw1"
      },
      "execution_count": null,
      "outputs": []
    },
    {
      "cell_type": "markdown",
      "source": [
        "## CV and TFIDF TOP 10,5,3 TERMS"
      ],
      "metadata": {
        "id": "cHkXCSegrhKm"
      }
    },
    {
      "cell_type": "code",
      "source": [
        "def get_top_terms(row, n_top_terms):\n",
        "    return row.sort_values(ascending=False).index[:n_top_terms].tolist()\n",
        "\n",
        "n_top_terms = 10\n",
        "\n",
        "cv_top_terms_column = [get_top_terms(row, n_top_terms) for _, row in cv_df.iterrows()]\n",
        "cv_top_terms_column = np.array(cv_top_terms_column)\n",
        "plin_df7['cv_top_terms'] = cv_top_terms_column.tolist()\n",
        "\n",
        "tfidf_top_terms_column = [get_top_terms(row, n_top_terms) for _, row in tfidf_df.iterrows()]\n",
        "tfidf_top_terms_column = np.array(tfidf_top_terms_column)\n",
        "plin_df7['tfidf_top_terms'] = tfidf_top_terms_column.tolist()"
      ],
      "metadata": {
        "id": "lP6MuB7eBD1M"
      },
      "execution_count": 14,
      "outputs": []
    },
    {
      "cell_type": "code",
      "source": [
        "print(plin_df7[['label', 'sentence', 'lemmas', 'pos', 'joined_lemmas', 'filtered_joined_lemmas', 'cv_top_terms', 'tfidf_top_terms']])"
      ],
      "metadata": {
        "colab": {
          "base_uri": "https://localhost:8080/"
        },
        "id": "KNxmwccDt-6e",
        "outputId": "3a0bc24d-736b-4c77-bec8-2c4c2290672d"
      },
      "execution_count": 15,
      "outputs": [
        {
          "output_type": "stream",
          "name": "stdout",
          "text": [
            "                 label                                           sentence  \\\n",
            "0       plin. nat. 1.1  libro ii continentvr an finitus sit mundus et ...   \n",
            "1       plin. nat. 1.2  ex avctoribvs M Varrone sulpicio gallo tito ca...   \n",
            "2       plin. nat. 1.3  externis hipparcho timaeo sosigene petosiri ne...   \n",
            "3       plin. nat. 1.4  l iii continentvr situs gentes maria oppida po...   \n",
            "4       plin. nat. 1.5  ex avctoribvs turranio gracile cornelio nepote...   \n",
            "...                ...                                                ...   \n",
            "2852  plin. nat. 37.74  veras a falsis discernere magna difficultas qu...   \n",
            "2853  plin. nat. 37.75  gemmiferi amnes sunt acesinus et ganges terrar...   \n",
            "2854  plin. nat. 37.76  ergo in toto orbe quacumque caeli convexitas v...   \n",
            "2855  plin. nat. 37.77  rerum autem ipsarum maximum est pretium in mar...   \n",
            "2856  plin. nat. 37.78  salve parens rerum omnium natura teque nobis q...   \n",
            "\n",
            "                                                 lemmas  \\\n",
            "0     [liber, is, continentvr, an, finitus, sum, mun...   \n",
            "1     [ex, avctoribvss, Marcus, Uarro, sulpicius, ga...   \n",
            "2     [externus, hipparchus, timaeus, sosigene, peto...   \n",
            "3     [l, iii, continentvr, situs, gens, maria, oppi...   \n",
            "4     [ex, avctoribvss, turranius, gracile, corneliu...   \n",
            "...                                                 ...   \n",
            "2852  [uero, ab, falsus, discerno, magnus, difficult...   \n",
            "2853  [gemmiferus, amn, sum, acesinus, et, ganges, t...   \n",
            "2854  [ergo, in, totus, orbis, quicumque, caelum, co...   \n",
            "2855  [res, autem, ipse, magnus, sum, pretium, in, m...   \n",
            "2856  [salueo, parens, res, omnis, natura, tu, que, ...   \n",
            "\n",
            "                                                    pos  \\\n",
            "0     [NOUN, PRON, ADP, PART, VERB, AUX, NOUN, CCONJ...   \n",
            "1     [ADP, NOUN, PROPN, PROPN, ADJ, NOUN, VERB, NOU...   \n",
            "2     [ADJ, NOUN, NOUN, ADV, VERB, ADV, NOUN, NOUN, ...   \n",
            "3     [VERB, ADV, ADV, NOUN, NOUN, PROPN, NOUN, NOUN...   \n",
            "4     [ADP, NOUN, NOUN, ADJ, NOUN, NOUN, ADP, NOUN, ...   \n",
            "...                                                 ...   \n",
            "2852  [ADJ, ADP, ADJ, VERB, ADJ, NOUN, ADV, SCONJ, V...   \n",
            "2853  [ADJ, NOUN, AUX, ADJ, CCONJ, NOUN, NOUN, ADV, ...   \n",
            "2854  [ADV, ADP, ADJ, NOUN, ADJ, NOUN, NOUN, VERB, A...   \n",
            "2855  [NOUN, CCONJ, DET, ADJ, AUX, NOUN, ADP, NOUN, ...   \n",
            "2856  [VERB, NOUN, NOUN, ADJ, NOUN, PRON, CCONJ, PRO...   \n",
            "\n",
            "                                          joined_lemmas  \\\n",
            "0     liber is continentvr an finitus sum mundus et ...   \n",
            "1     ex avctoribvss Marcus Uarro sulpicius gallus t...   \n",
            "2     externus hipparchus timaeus sosigene petosio n...   \n",
            "3     l iii continentvr situs gens maria oppidum por...   \n",
            "4     ex avctoribvss turranius gracile cornelius nep...   \n",
            "...                                                 ...   \n",
            "2852  uero ab falsus discerno magnus difficultas qui...   \n",
            "2853  gemmiferus amn sum acesinus et ganges terra au...   \n",
            "2854  ergo in totus orbis quicumque caelum convexita...   \n",
            "2855  res autem ipse magnus sum pretium in mare nasc...   \n",
            "2856  salueo parens res omnis natura tu que nos quir...   \n",
            "\n",
            "                                 filtered_joined_lemmas  \\\n",
            "0     liber continentvrio an finitus mundus an unus ...   \n",
            "1     auctoribuss Marcus Uarro sulpicius gallus tio ...   \n",
            "2     externus hipparchus timaeus sosigene petosio n...   \n",
            "3     l iii continentvr situs gens maria oppidum por...   \n",
            "4     avctoribvss turranius gracile cornelus nepos l...   \n",
            "...                                                 ...   \n",
            "2852  uero falsus discernus magnus difficultas quipp...   \n",
            "2853  gemmiferus amn acesinus gango terra autem omni...   \n",
            "2854  ergo totus orbis quicumque caelum convexitas u...   \n",
            "2855  res magnus pretium mare nascus margarita tellu...   \n",
            "2856  salueo parens res omnis natura quiritium sol c...   \n",
            "\n",
            "                                           cv_top_terms  \\\n",
            "0     [terra, ratio, ubi, sidus, motus, quare, mare,...   \n",
            "1     [item, antio, uarro, tarquitius, ttt, pisus, t...   \n",
            "2     [characenus, petosio, archimeda, eratosthene, ...   \n",
            "3     [summus, gens, insula, oppidum, locrus, padus,...   \n",
            "4     [l, ateius, liue, ualerianus, uerrius, gracile...   \n",
            "...                                                 ...   \n",
            "2852  [non, omnis, gemma, aliunde, ut, genus, falsus...   \n",
            "2853  [omnis, terra, opus, etenim, gemmiferus, indus...   \n",
            "2854  [frux, omnis, uinum, uerus, salubritas, suus, ...   \n",
            "2855  [mare, arbor, magnus, terra, aurum, uero, pret...   \n",
            "2856  [omnis, celebro, res, quiritium, salueo, tuus,...   \n",
            "\n",
            "                                        tfidf_top_terms  \n",
            "0     [terra, motus, ratio, sidus, caelestis, quare,...  \n",
            "1     [tarquitius, ttt, plausco, liuus, tiro, caecin...  \n",
            "2     [archimeda, pythagorico, critodemo, petosio, n...  \n",
            "3     [summus, gens, locrus, padus, insula, oppidum,...  \n",
            "4     [ateius, l, vetere, liue, gellianus, melo, arr...  \n",
            "...                                                 ...  \n",
            "2852  [aliunde, falsus, ficticus, gemma, fragmentum,...  \n",
            "2853  [gemmiferus, acesinus, peracium, gango, conven...  \n",
            "2854  [frux, salubritas, metallum, hispania, equus, ...  \n",
            "2855  [mare, pretium, costo, myrrinus, crystallis, a...  \n",
            "2856  [fave, salueo, quiritium, tuus, parens, celebr...  \n",
            "\n",
            "[2857 rows x 8 columns]\n"
          ]
        }
      ]
    },
    {
      "cell_type": "code",
      "source": [
        "plin_df7.to_csv('/content/drive/MyDrive/plin_top10_df7.csv', index=False, encoding='utf-8')"
      ],
      "metadata": {
        "id": "fozaJ1qZl4F6"
      },
      "execution_count": 16,
      "outputs": []
    },
    {
      "cell_type": "code",
      "source": [
        "plin_df7['author'] = 'pliny_the_elder'"
      ],
      "metadata": {
        "id": "IKJwMnn8DujA"
      },
      "execution_count": 17,
      "outputs": []
    },
    {
      "cell_type": "code",
      "source": [
        "empty_rows = plin_df7[plin_df7.isna().any(axis=1)]\n",
        "print(empty_rows[['label', 'sentence', 'lemmas', 'pos']])"
      ],
      "metadata": {
        "colab": {
          "base_uri": "https://localhost:8080/"
        },
        "id": "ADvl8ezoyTzu",
        "outputId": "2ced4324-3885-4e61-eccc-867a083cd9f0"
      },
      "execution_count": 18,
      "outputs": [
        {
          "output_type": "stream",
          "name": "stdout",
          "text": [
            "Empty DataFrame\n",
            "Columns: [label, sentence, lemmas, pos]\n",
            "Index: []\n"
          ]
        }
      ]
    },
    {
      "cell_type": "markdown",
      "source": [
        "##Formatting dataset into q/a\n"
      ],
      "metadata": {
        "id": "T-wIPzVgLwWt"
      }
    },
    {
      "cell_type": "code",
      "source": [
        "!pip install -q 'gradio>=4.0.0' # you can probably remove this if you're running locally (KT: I find that I have to run this each time)\n",
        "import gradio as gr\n",
        "from huggingface_hub import InferenceClient"
      ],
      "metadata": {
        "id": "Chsg0bE7NRxH"
      },
      "execution_count": null,
      "outputs": []
    },
    {
      "cell_type": "code",
      "source": [
        "model = \"mistralai/Mixtral-8x7B-Instruct-v0.1\" # see https://huggingface.co/mistralai/Mixtral-8x7B-Instruct-v0.1\n",
        "\n",
        "client = InferenceClient(model) # see https://huggingface.co/docs/huggingface_hub/package_reference/inference_client\n",
        "\n",
        "# If you haven't set HF_TOKEN as a secret for your notebooks, you'll get a warning. It can be ignored."
      ],
      "metadata": {
        "id": "6K_FcZfLNYgq"
      },
      "execution_count": null,
      "outputs": []
    },
    {
      "cell_type": "code",
      "source": [
        "from transformers import AutoTokenizer\n",
        "\n",
        "model_id = \"mistralai/Mixtral-8x7B-Instruct-v0.1\"\n",
        "tokenizer = AutoTokenizer.from_pretrained(model_id)\n"
      ],
      "metadata": {
        "colab": {
          "base_uri": "https://localhost:8080/",
          "height": 201,
          "referenced_widgets": [
            "41ba99c07d5242f181efb0b9057e5c12",
            "c665d992682046ef9d11bab881996f0b",
            "4b1734321e15426bb84c7becfa68fcac",
            "6dd8ad9269064db2bf98e9a04024c4e9",
            "b14bbdd2fd36480383f9cf19a410dea5",
            "5e7d3b86a7544e658be19fc2c0ea27b7",
            "77a0be7f9d334344bba2e1d50e8490a2",
            "9454813e5cca40a0bf43bb3182e62156",
            "7711f07eb0c349e49dc30c35de820323",
            "d84eb0784b5a47d4896b82cad45b2b90",
            "7b692c24f9744d87b4df86e8a305e169",
            "19e1c4a3bd544ee9b18878be2e24a89e",
            "247595e547d243db8e8401c8aa37a488",
            "85ad24629de648c2b0377b99d9bf7379",
            "2f76c38668ed4ffb9afe33c38008721b",
            "ccf0ed551cf447f7aa328b093d082d85",
            "b2c34b7f7556477d90d9564f3838982f",
            "39eaf798b08d4fb38d6d22559deb173b",
            "d0645c4537a04920820cfb4e87772f01",
            "96aa1f6735f941beb0de1e83f87f469a",
            "323d6624dfdf426dab8adba3c5660ceb",
            "8b5bb1a621c548a19101bbc1c39f34fa",
            "e04e213fc8a9423f8094f95d3bf6c7cd",
            "8ba1869a5f364038838522f49c47cb68",
            "36111580dd02499da078ea25fb825033",
            "2b571bdd718f4f38b3c767f0d70986ea",
            "ac57b20091114bb4872845b3b21ab9d8",
            "7de9cffdbe3849ee99cf2e20698b512c",
            "2b4f9feb8cdb40beaff709a69e2a735e",
            "52b30fe2dc6949f281129a8a05e61d14",
            "981baff690144bdda3ec189630c9ada7",
            "bd83dd5d57fb486eaa677d552eab4462",
            "d52f472ca342476182da0115b532c1ca",
            "13237b9e09124835b7cbb6e5b00b5565",
            "7046d16fd76044469dad485ce9257047",
            "dc78b911e30c4a518cee990e3a8059be",
            "15e0a584466e45eebefce1e5eea0a17e",
            "404cba34a75b4ab084aca324a9fc3d44",
            "4f316f6197c44fe3a51c6fc6f1c3de08",
            "12212f5edd314f8783bda2faf0356278",
            "2f76b12214794128a61468acba6d1284",
            "aa5eaf861cdc4d8ebadfce90d30f5238",
            "6b10b16e3eaf4fa8a34244b964109f5b",
            "62844f9e4b4c4580b932be446ba342d4"
          ]
        },
        "id": "i9gNO_5pMTWR",
        "outputId": "600511df-79b2-497a-bd0f-3a99bc98c6ce"
      },
      "execution_count": 27,
      "outputs": [
        {
          "output_type": "stream",
          "name": "stderr",
          "text": [
            "/usr/local/lib/python3.10/dist-packages/transformers/utils/generic.py:441: UserWarning: torch.utils._pytree._register_pytree_node is deprecated. Please use torch.utils._pytree.register_pytree_node instead.\n",
            "  _torch_pytree._register_pytree_node(\n"
          ]
        },
        {
          "output_type": "display_data",
          "data": {
            "text/plain": [
              "tokenizer_config.json:   0%|          | 0.00/1.46k [00:00<?, ?B/s]"
            ],
            "application/vnd.jupyter.widget-view+json": {
              "version_major": 2,
              "version_minor": 0,
              "model_id": "41ba99c07d5242f181efb0b9057e5c12"
            }
          },
          "metadata": {}
        },
        {
          "output_type": "display_data",
          "data": {
            "text/plain": [
              "tokenizer.model:   0%|          | 0.00/493k [00:00<?, ?B/s]"
            ],
            "application/vnd.jupyter.widget-view+json": {
              "version_major": 2,
              "version_minor": 0,
              "model_id": "19e1c4a3bd544ee9b18878be2e24a89e"
            }
          },
          "metadata": {}
        },
        {
          "output_type": "display_data",
          "data": {
            "text/plain": [
              "tokenizer.json:   0%|          | 0.00/1.80M [00:00<?, ?B/s]"
            ],
            "application/vnd.jupyter.widget-view+json": {
              "version_major": 2,
              "version_minor": 0,
              "model_id": "e04e213fc8a9423f8094f95d3bf6c7cd"
            }
          },
          "metadata": {}
        },
        {
          "output_type": "display_data",
          "data": {
            "text/plain": [
              "special_tokens_map.json:   0%|          | 0.00/72.0 [00:00<?, ?B/s]"
            ],
            "application/vnd.jupyter.widget-view+json": {
              "version_major": 2,
              "version_minor": 0,
              "model_id": "13237b9e09124835b7cbb6e5b00b5565"
            }
          },
          "metadata": {}
        }
      ]
    },
    {
      "cell_type": "markdown",
      "source": [
        "### First KT prompt try"
      ],
      "metadata": {
        "id": "dNsew1fZMXNm"
      }
    },
    {
      "cell_type": "code",
      "source": [
        "data_for_training = []\n",
        "\n",
        "for index, row in plin_df7.iterrows():\n",
        "    label = row['label']\n",
        "    sentence = row['sentence']\n",
        "    author = row['author']\n",
        "\n",
        "    for method, top_terms in [('CountVectorizer', row['cv_top_terms']), ('TF-IDF', row['tfidf_top_terms'])]:\n",
        "        for term in top_terms:\n",
        "            question = f\"What does {author} in {label} say about {term} according to {method}?\"\n",
        "            answer = sentence\n",
        "\n",
        "            conversation_input = [\n",
        "                tokenizer.bos_token,\n",
        "                tokenizer.encode(\"[INST]\") + tokenizer.encode(question) + tokenizer.encode(\"[/INST]\"),\n",
        "                tokenizer.encode(answer) + [tokenizer.eos_token_id],\n",
        "            ]\n",
        "\n",
        "            data_point = {\n",
        "                'instruction': question,\n",
        "                'expected_output': answer,\n",
        "                'conversation_input': conversation_input,\n",
        "            }\n",
        "\n",
        "            data_for_training.append(data_point)\n"
      ],
      "metadata": {
        "id": "eQVvnBGQuSzf"
      },
      "execution_count": null,
      "outputs": []
    },
    {
      "cell_type": "markdown",
      "source": [
        "### Second SH prompt suggestion try"
      ],
      "metadata": {
        "id": "cZEy4r7xL_Tn"
      }
    },
    {
      "cell_type": "code",
      "source": [
        "data_for_training = []\n",
        "\n",
        "for index, row in plin_df7.iterrows():\n",
        "    label = row['label']\n",
        "    sentence = row['sentence']\n",
        "    author = row['author']\n",
        "\n",
        "    for method, top_terms in [('CountVectorizer', row['cv_top_terms']), ('TF-IDF', row['tfidf_top_terms'])]:\n",
        "        for term in top_terms:\n",
        "            # Create the question and expected result for each top_term\n",
        "            question = f\"Identify and then include in your response a passage of Pliny that addresses the following topic: {term} according to {method}\"\n",
        "            expected_result = f\"At {label}, {author} wrote the following: {sentence}\"\n",
        "\n",
        "            conversation_input = [\n",
        "                tokenizer.bos_token,\n",
        "                tokenizer.encode(\"[INST]\") + tokenizer.encode(question) + tokenizer.encode(\"[/INST]\"),\n",
        "                tokenizer.encode(expected_result) + [tokenizer.eos_token_id],\n",
        "            ]\n",
        "\n",
        "            data_point = {\n",
        "                'instruction': question,\n",
        "                'expected_output': expected_result,\n",
        "                'conversation_input': conversation_input,\n",
        "            }\n",
        "\n",
        "            data_for_training.append(data_point)\n"
      ],
      "metadata": {
        "id": "0TcIPQN2Lj8j"
      },
      "execution_count": 40,
      "outputs": []
    },
    {
      "cell_type": "markdown",
      "source": [
        "## Save/load training data"
      ],
      "metadata": {
        "id": "zc4EEUhQcdW_"
      }
    },
    {
      "cell_type": "code",
      "source": [
        "# Save data_for_training as needed\n",
        "df_for_training = pd.DataFrame(data_for_training)\n",
        "df_for_training.to_csv('/content/drive/MyDrive/training_data7_SH_prompt.csv', index=False, encoding='utf-8')"
      ],
      "metadata": {
        "id": "8DfKBGOmz3GI"
      },
      "execution_count": 41,
      "outputs": []
    },
    {
      "cell_type": "code",
      "source": [
        "import torch\n",
        "from torch.utils.data import Dataset\n",
        "import pandas as pd\n",
        "import pyarrow as pa\n",
        "\n",
        "class CustomDataset(Dataset):\n",
        "    def __init__(self, dataframe, tokenizer):\n",
        "        self.dataframe = dataframe\n",
        "        self.tokenizer = tokenizer\n",
        "        self.data = self._process_dataframe()\n",
        "\n",
        "    def _process_dataframe(self):\n",
        "        data_for_training = []\n",
        "\n",
        "        for index, row in self.dataframe.iterrows():\n",
        "            text = '<s>[INST]@Enlighten. ' + row['instruction'] + '[/INST]' + row['expected_output'] + '</s>'\n",
        "            conversation_input = [\n",
        "                self.tokenizer.bos_token_id,\n",
        "                *self.tokenizer.encode(\"[INST]@Enlighten. \" + row['instruction'] + \"[/INST]\" + row['expected_output']),\n",
        "                self.tokenizer.eos_token_id,\n",
        "            ]\n",
        "\n",
        "            data_point = {\n",
        "                'text': text,\n",
        "                'conversation_input': conversation_input,\n",
        "            }\n",
        "\n",
        "            data_for_training.append(data_point)\n",
        "\n",
        "        return data_for_training\n",
        "\n",
        "    def __len__(self):\n",
        "        return len(self.data)\n",
        "\n",
        "    def __getitem__(self, index):\n",
        "        return self.data[index]\n",
        "\n",
        "\n",
        "# Create the CustomDataset using the manually prepared data_for_training\n",
        "custom_dataset = CustomDataset(dataframe=pd.DataFrame(data_for_training), tokenizer=tokenizer)"
      ],
      "metadata": {
        "id": "6GXpEoPLoXEU"
      },
      "execution_count": 42,
      "outputs": []
    },
    {
      "cell_type": "code",
      "source": [
        "# Print the first few items in custom_dataset\n",
        "for i in range(min(5, len(custom_dataset))):\n",
        "    print(custom_dataset[i])\n"
      ],
      "metadata": {
        "colab": {
          "base_uri": "https://localhost:8080/"
        },
        "id": "4j2asUlORG6O",
        "outputId": "b6cd79ea-ef76-49b0-d7c7-03106abe468c"
      },
      "execution_count": 43,
      "outputs": [
        {
          "output_type": "stream",
          "name": "stdout",
          "text": [
            "{'text': '<s>[INST]@Enlighten. Identify and then include in your response a passage of Pliny that addresses the following topic: terra according to CountVectorizer[/INST]At plin. nat. 1.1, pliny_the_elder wrote the following: libro ii continentvr an finitus sit mundus et an unus de forma eius de motu eius cur mundus dicatur de elementis de deo de siderum errantium natura de lunae et solis defectibus de nocte de magnitudine siderum quae quis invenerit in observatione caelesti de lunae motu errantium motus et luminum canonica quare eadem altiora alias propiora videantur catholica siderum errantium quae ratio colores eorum mutet solis motus dierum inaequalitatis ratio quare fulmina iovi adsignentur intervalla siderum de sideribus musica de mundo geometrica de repentinis sideribus de cometis natura et situs et genera eorum hipparchea de sideribus agnoscendis  de caelestibus prodigiis per exempla historica lampades bolides trabes caelestes chasma caeli de caeli coloribus de flamma caelesti de coronis caelestibus de circulis repentinis plures soles plures lunae dierum modo noctibus lux clipei ardentes ostentum caeli semel notatum de discursu stellarum de stellis quae castores vocantur de aere de statis tempestatibus     de caniculae ortu     vis temporum anni stata de incertis tempestatibus de imbribus et quare lapidibus pluat de tonitribus et fulgetris qua ratione echo reddatur ventorum genera naturae observationes ecnephias typhon turbines presteres vertices alia prodigiosa genera tempestatum de fulminibus     quibus in terris non cadant     et quare     genera fulgurum et miracula     etrusca observatio in iis et     romana     de fulminibus evocandis     catholica fulgurum     quae numquam feriantur lacte pluisse sanguine carne ferro lana lateribus coctis portenta de lapidibus caelo cadentibus anaxagorea de his arcus caelestis natura grandinis nivis pruinae nebulae roris nubium imagines proprietates caeli in locis natura terrae de forma eius an sint antipodes quomodo aqua terrae innexa quae ratio fluminum  an circumdatus terrae oceanus quae portio terrae habitetur mediam esse mundi terram de obliquitate zonarum de inaequalitate climatum ubi eclipses non appareant et quare quae ratio diurnae lucis in terris gnomonica de ea re ubi et quando nullae umbrae ubi bis anno ubi in contrarium umbrae ferantur ubi longissimi dies ubi brevissimi de primo horologio quo modo observentur dies differentia gentium ad rationem mundi de terrae motibus de terrae hiatibus signa motus futuri auxilia contra motus futuros portenta terrarum semel tradita miracula terrae motus quibus locis maria recesserint insularum enascentium ratio quae et quibus temporibus enatae sint quas terras interruperint maria quae insulae continenti adiunctae sint quae terrae in totum mari permutatae quae terrae ipsae se minuerint urbes haustae mari de spiraculis de terris semper trementibus de insulis semper fluctuantibus quibus locis non inpluat acervata terrarum miracula qua ratione aestus maris accedant et recedant ubi aestus extra rationem idem faciant miracula maris      quae potentia lunae ad ter    rena et marina     quae solis     quare salsum mare     ubi altissimum mare mirabilia fontium et fluminum ignium et aquarum iuncta miracula     de maltha     de naphtha     quae loca semper ardeant ignium per se miracula terrae universae mensura harmonica mundi ratio summa res et historiae et observationes ccccxvii</s>', 'conversation_input': [1, 1, 733, 16289, 28793, 28818, 1608, 3646, 269, 28723, 15220, 1575, 304, 868, 3024, 297, 574, 2899, 264, 12280, 302, 1641, 4279, 369, 14501, 272, 2296, 9067, 28747, 25836, 4771, 298, 4165, 6162, 4024, 28792, 28748, 16289, 28793, 3167, 549, 262, 28723, 3044, 28723, 28705, 28740, 28723, 28740, 28725, 549, 4279, 28730, 1237, 28730, 301, 826, 4677, 272, 2296, 28747, 28066, 23302, 22713, 11277, 396, 854, 279, 381, 1943, 290, 915, 381, 911, 396, 12449, 340, 10997, 317, 3170, 340, 2808, 28718, 317, 3170, 1191, 290, 915, 381, 19184, 4692, 340, 2442, 278, 340, 340, 28709, 340, 268, 1184, 383, 1166, 440, 1962, 3044, 2614, 340, 17999, 4643, 911, 2128, 278, 18366, 593, 381, 340, 708, 310, 28706, 340, 9027, 14534, 473, 268, 1184, 383, 526, 4643, 526, 278, 1304, 790, 279, 297, 15379, 28706, 277, 4152, 374, 28710, 340, 17999, 4643, 2808, 28718, 1166, 440, 1962, 2808, 381, 911, 305, 9867, 383, 28585, 1286, 526, 492, 317, 4247, 5054, 1782, 28708, 18960, 3313, 1782, 28708, 8414, 440, 324, 277, 23593, 1286, 268, 1184, 383, 1166, 440, 1962, 526, 4643, 10554, 990, 3626, 317, 25965, 4548, 299, 2128, 278, 2808, 381, 281, 749, 383, 297, 28708, 7318, 11116, 278, 10554, 526, 492, 4464, 28085, 613, 17694, 616, 6301, 308, 324, 791, 28728, 7112, 268, 1184, 383, 340, 268, 1184, 593, 381, 2009, 1286, 340, 18654, 2970, 3424, 28712, 1286, 340, 1558, 23149, 278, 268, 1184, 593, 381, 340, 432, 299, 278, 3044, 2614, 911, 1943, 381, 911, 1350, 28708, 317, 25965, 12323, 1389, 631, 28708, 340, 268, 1184, 593, 381, 717, 28711, 17815, 416, 278, 28705, 340, 277, 4152, 374, 593, 381, 430, 7845, 28710, 278, 660, 18688, 28708, 4264, 1286, 21157, 2550, 16361, 1926, 11968, 274, 277, 4152, 374, 274, 484, 21299, 277, 4152, 28710, 340, 277, 4152, 28710, 3181, 593, 381, 340, 972, 2653, 277, 4152, 374, 28710, 340, 18167, 278, 277, 4152, 374, 593, 381, 340, 15092, 278, 1558, 23149, 278, 549, 1238, 2128, 274, 549, 1238, 17999, 4643, 281, 749, 383, 20273, 708, 310, 593, 381, 11967, 533, 3985, 28710, 597, 28715, 11829, 19862, 308, 383, 277, 4152, 28710, 3546, 301, 459, 270, 383, 340, 704, 1352, 2913, 21523, 383, 340, 14062, 278, 526, 4643, 4815, 3626, 7901, 440, 324, 340, 264, 397, 340, 765, 278, 7222, 374, 270, 593, 381, 260, 340, 541, 294, 3712, 28706, 28705, 419, 28718, 260, 1717, 6613, 383, 13512, 20879, 340, 2258, 930, 278, 7222, 374, 270, 593, 381, 340, 503, 28726, 758, 381, 911, 526, 492, 14348, 313, 593, 381, 549, 28718, 270, 340, 6339, 279, 758, 381, 911, 4464, 527, 3665, 526, 28708, 408, 352, 28706, 3894, 15512, 4692, 8061, 25965, 1350, 28708, 3044, 2614, 28706, 15379, 274, 11353, 485, 721, 2995, 13936, 721, 266, 18549, 1303, 710, 2406, 274, 17794, 389, 515, 430, 7845, 2806, 28708, 1350, 28708, 7222, 374, 270, 383, 340, 4464, 1240, 593, 381, 260, 526, 593, 381, 297, 4462, 278, 1843, 13150, 440, 260, 911, 526, 492, 260, 1350, 28708, 4464, 28721, 324, 383, 911, 6076, 323, 3712, 260, 911, 17355, 2591, 3977, 16639, 297, 613, 278, 911, 260, 5423, 2238, 260, 340, 4464, 1240, 593, 381, 683, 402, 391, 278, 260, 277, 23593, 1286, 4464, 28721, 324, 383, 260, 526, 4643, 2075, 364, 314, 7724, 3906, 324, 543, 310, 28706, 549, 28718, 6813, 268, 2374, 473, 1253, 485, 7724, 311, 305, 2238, 2062, 593, 381, 1001, 310, 278, 2248, 11849, 340, 14348, 313, 593, 381, 277, 4152, 28709, 13150, 308, 593, 381, 396, 897, 357, 431, 28708, 340, 516, 13605, 381, 277, 4152, 374, 278, 3044, 2614, 3487, 24479, 307, 449, 278, 284, 551, 1380, 28706, 435, 28726, 3712, 28706, 408, 271, 278, 307, 437, 1962, 3809, 1303, 20796, 1002, 277, 4152, 28710, 297, 1195, 278, 3044, 2614, 25836, 28706, 340, 10997, 317, 3170, 396, 268, 501, 2725, 508, 2804, 526, 300, 11139, 11018, 28708, 25836, 28706, 297, 485, 8705, 526, 4643, 10554, 972, 9867, 383, 28705, 396, 7863, 28715, 1589, 25836, 28706, 13993, 381, 526, 4643, 2248, 691, 25836, 28706, 6189, 299, 324, 1342, 2643, 1037, 331, 290, 915, 28710, 4462, 314, 340, 818, 1144, 364, 9647, 686, 266, 283, 383, 340, 297, 28708, 7318, 9647, 6423, 270, 383, 332, 6309, 317, 512, 2430, 274, 1843, 954, 492, 440, 911, 526, 492, 526, 4643, 10554, 890, 453, 4643, 22144, 278, 297, 4462, 278, 319, 11991, 266, 1286, 340, 317, 28708, 312, 332, 6309, 911, 15440, 1241, 4643, 332, 1757, 520, 28706, 332, 6309, 4505, 396, 1510, 332, 6309, 297, 4188, 26207, 332, 1757, 520, 28706, 7724, 440, 324, 332, 6309, 1043, 815, 13840, 5148, 332, 6309, 3412, 28728, 815, 13840, 340, 18472, 3292, 1165, 691, 526, 28709, 20273, 818, 457, 1071, 324, 5148, 1581, 515, 8888, 1962, 616, 408, 352, 366, 290, 915, 28710, 340, 25836, 28706, 2808, 593, 381, 340, 25836, 28706, 295, 9348, 593, 381, 1492, 28708, 2808, 381, 2765, 6395, 5672, 16712, 11387, 2808, 381, 2765, 22751, 2248, 11849, 4462, 283, 383, 3546, 301, 2784, 3156, 6076, 323, 3712, 25836, 28706, 2808, 381, 526, 593, 381, 1195, 278, 1829, 515, 937, 25711, 501, 1488, 1098, 383, 481, 293, 1476, 1962, 10554, 526, 4643, 911, 526, 593, 381, 6613, 593, 381, 481, 563, 28706, 268, 501, 526, 293, 4462, 293, 791, 551, 487, 501, 1829, 515, 526, 4643, 1488, 3712, 28706, 1710, 10338, 616, 28710, 18181, 4643, 268, 501, 526, 4643, 25836, 28706, 297, 2209, 383, 28555, 660, 3244, 563, 28706, 526, 4643, 25836, 28706, 28705, 2430, 4643, 427, 1187, 3807, 501, 4273, 10354, 3631, 469, 4643, 28555, 340, 14652, 323, 353, 278, 340, 4462, 278, 3546, 487, 2655, 466, 593, 381, 340, 1488, 353, 278, 3546, 487, 19363, 28718, 440, 593, 381, 526, 593, 381, 1195, 278, 1843, 297, 452, 28718, 270, 1183, 784, 563, 4462, 283, 383, 6076, 323, 3712, 526, 28708, 408, 352, 28706, 20429, 381, 1829, 278, 932, 286, 440, 911, 937, 286, 440, 332, 6309, 20429, 381, 4210, 408, 352, 366, 1910, 366, 3252, 3906, 6076, 323, 3712, 1829, 278, 355, 526, 4643, 2513, 308, 515, 17999, 4643, 616, 3636, 2287, 312, 1520, 911, 1829, 1380, 260, 526, 4643, 2128, 278, 260, 526, 492, 268, 973, 383, 25420, 260, 332, 6309, 5054, 815, 3485, 25420, 6076, 6572, 515, 6205, 1962, 911, 972, 9867, 383, 4303, 1962, 911, 11018, 283, 383, 613, 18181, 28708, 6076, 323, 3712, 260, 340, 290, 1663, 28708, 260, 340, 307, 2366, 15716, 260, 526, 4643, 1195, 28708, 3546, 487, 597, 450, 440, 4303, 1962, 660, 427, 6076, 323, 3712, 25836, 28706, 5137, 4643, 24644, 2614, 26739, 1286, 290, 915, 28710, 10554, 2648, 705, 605, 911, 23394, 28706, 911, 15379, 274, 277, 588, 14415, 28728, 2773, 2]}\n",
            "{'text': '<s>[INST]@Enlighten. Identify and then include in your response a passage of Pliny that addresses the following topic: ratio according to CountVectorizer[/INST]At plin. nat. 1.1, pliny_the_elder wrote the following: libro ii continentvr an finitus sit mundus et an unus de forma eius de motu eius cur mundus dicatur de elementis de deo de siderum errantium natura de lunae et solis defectibus de nocte de magnitudine siderum quae quis invenerit in observatione caelesti de lunae motu errantium motus et luminum canonica quare eadem altiora alias propiora videantur catholica siderum errantium quae ratio colores eorum mutet solis motus dierum inaequalitatis ratio quare fulmina iovi adsignentur intervalla siderum de sideribus musica de mundo geometrica de repentinis sideribus de cometis natura et situs et genera eorum hipparchea de sideribus agnoscendis  de caelestibus prodigiis per exempla historica lampades bolides trabes caelestes chasma caeli de caeli coloribus de flamma caelesti de coronis caelestibus de circulis repentinis plures soles plures lunae dierum modo noctibus lux clipei ardentes ostentum caeli semel notatum de discursu stellarum de stellis quae castores vocantur de aere de statis tempestatibus     de caniculae ortu     vis temporum anni stata de incertis tempestatibus de imbribus et quare lapidibus pluat de tonitribus et fulgetris qua ratione echo reddatur ventorum genera naturae observationes ecnephias typhon turbines presteres vertices alia prodigiosa genera tempestatum de fulminibus     quibus in terris non cadant     et quare     genera fulgurum et miracula     etrusca observatio in iis et     romana     de fulminibus evocandis     catholica fulgurum     quae numquam feriantur lacte pluisse sanguine carne ferro lana lateribus coctis portenta de lapidibus caelo cadentibus anaxagorea de his arcus caelestis natura grandinis nivis pruinae nebulae roris nubium imagines proprietates caeli in locis natura terrae de forma eius an sint antipodes quomodo aqua terrae innexa quae ratio fluminum  an circumdatus terrae oceanus quae portio terrae habitetur mediam esse mundi terram de obliquitate zonarum de inaequalitate climatum ubi eclipses non appareant et quare quae ratio diurnae lucis in terris gnomonica de ea re ubi et quando nullae umbrae ubi bis anno ubi in contrarium umbrae ferantur ubi longissimi dies ubi brevissimi de primo horologio quo modo observentur dies differentia gentium ad rationem mundi de terrae motibus de terrae hiatibus signa motus futuri auxilia contra motus futuros portenta terrarum semel tradita miracula terrae motus quibus locis maria recesserint insularum enascentium ratio quae et quibus temporibus enatae sint quas terras interruperint maria quae insulae continenti adiunctae sint quae terrae in totum mari permutatae quae terrae ipsae se minuerint urbes haustae mari de spiraculis de terris semper trementibus de insulis semper fluctuantibus quibus locis non inpluat acervata terrarum miracula qua ratione aestus maris accedant et recedant ubi aestus extra rationem idem faciant miracula maris      quae potentia lunae ad ter    rena et marina     quae solis     quare salsum mare     ubi altissimum mare mirabilia fontium et fluminum ignium et aquarum iuncta miracula     de maltha     de naphtha     quae loca semper ardeant ignium per se miracula terrae universae mensura harmonica mundi ratio summa res et historiae et observationes ccccxvii</s>', 'conversation_input': [1, 1, 733, 16289, 28793, 28818, 1608, 3646, 269, 28723, 15220, 1575, 304, 868, 3024, 297, 574, 2899, 264, 12280, 302, 1641, 4279, 369, 14501, 272, 2296, 9067, 28747, 10554, 4771, 298, 4165, 6162, 4024, 28792, 28748, 16289, 28793, 3167, 549, 262, 28723, 3044, 28723, 28705, 28740, 28723, 28740, 28725, 549, 4279, 28730, 1237, 28730, 301, 826, 4677, 272, 2296, 28747, 28066, 23302, 22713, 11277, 396, 854, 279, 381, 1943, 290, 915, 381, 911, 396, 12449, 340, 10997, 317, 3170, 340, 2808, 28718, 317, 3170, 1191, 290, 915, 381, 19184, 4692, 340, 2442, 278, 340, 340, 28709, 340, 268, 1184, 383, 1166, 440, 1962, 3044, 2614, 340, 17999, 4643, 911, 2128, 278, 18366, 593, 381, 340, 708, 310, 28706, 340, 9027, 14534, 473, 268, 1184, 383, 526, 4643, 526, 278, 1304, 790, 279, 297, 15379, 28706, 277, 4152, 374, 28710, 340, 17999, 4643, 2808, 28718, 1166, 440, 1962, 2808, 381, 911, 305, 9867, 383, 28585, 1286, 526, 492, 317, 4247, 5054, 1782, 28708, 18960, 3313, 1782, 28708, 8414, 440, 324, 277, 23593, 1286, 268, 1184, 383, 1166, 440, 1962, 526, 4643, 10554, 990, 3626, 317, 25965, 4548, 299, 2128, 278, 2808, 381, 281, 749, 383, 297, 28708, 7318, 11116, 278, 10554, 526, 492, 4464, 28085, 613, 17694, 616, 6301, 308, 324, 791, 28728, 7112, 268, 1184, 383, 340, 268, 1184, 593, 381, 2009, 1286, 340, 18654, 2970, 3424, 28712, 1286, 340, 1558, 23149, 278, 268, 1184, 593, 381, 340, 432, 299, 278, 3044, 2614, 911, 1943, 381, 911, 1350, 28708, 317, 25965, 12323, 1389, 631, 28708, 340, 268, 1184, 593, 381, 717, 28711, 17815, 416, 278, 28705, 340, 277, 4152, 374, 593, 381, 430, 7845, 28710, 278, 660, 18688, 28708, 4264, 1286, 21157, 2550, 16361, 1926, 11968, 274, 277, 4152, 374, 274, 484, 21299, 277, 4152, 28710, 340, 277, 4152, 28710, 3181, 593, 381, 340, 972, 2653, 277, 4152, 374, 28710, 340, 18167, 278, 277, 4152, 374, 593, 381, 340, 15092, 278, 1558, 23149, 278, 549, 1238, 2128, 274, 549, 1238, 17999, 4643, 281, 749, 383, 20273, 708, 310, 593, 381, 11967, 533, 3985, 28710, 597, 28715, 11829, 19862, 308, 383, 277, 4152, 28710, 3546, 301, 459, 270, 383, 340, 704, 1352, 2913, 21523, 383, 340, 14062, 278, 526, 4643, 4815, 3626, 7901, 440, 324, 340, 264, 397, 340, 765, 278, 7222, 374, 270, 593, 381, 260, 340, 541, 294, 3712, 28706, 28705, 419, 28718, 260, 1717, 6613, 383, 13512, 20879, 340, 2258, 930, 278, 7222, 374, 270, 593, 381, 340, 503, 28726, 758, 381, 911, 526, 492, 14348, 313, 593, 381, 549, 28718, 270, 340, 6339, 279, 758, 381, 911, 4464, 527, 3665, 526, 28708, 408, 352, 28706, 3894, 15512, 4692, 8061, 25965, 1350, 28708, 3044, 2614, 28706, 15379, 274, 11353, 485, 721, 2995, 13936, 721, 266, 18549, 1303, 710, 2406, 274, 17794, 389, 515, 430, 7845, 2806, 28708, 1350, 28708, 7222, 374, 270, 383, 340, 4464, 1240, 593, 381, 260, 526, 593, 381, 297, 4462, 278, 1843, 13150, 440, 260, 911, 526, 492, 260, 1350, 28708, 4464, 28721, 324, 383, 911, 6076, 323, 3712, 260, 911, 17355, 2591, 3977, 16639, 297, 613, 278, 911, 260, 5423, 2238, 260, 340, 4464, 1240, 593, 381, 683, 402, 391, 278, 260, 277, 23593, 1286, 4464, 28721, 324, 383, 260, 526, 4643, 2075, 364, 314, 7724, 3906, 324, 543, 310, 28706, 549, 28718, 6813, 268, 2374, 473, 1253, 485, 7724, 311, 305, 2238, 2062, 593, 381, 1001, 310, 278, 2248, 11849, 340, 14348, 313, 593, 381, 277, 4152, 28709, 13150, 308, 593, 381, 396, 897, 357, 431, 28708, 340, 516, 13605, 381, 277, 4152, 374, 278, 3044, 2614, 3487, 24479, 307, 449, 278, 284, 551, 1380, 28706, 435, 28726, 3712, 28706, 408, 271, 278, 307, 437, 1962, 3809, 1303, 20796, 1002, 277, 4152, 28710, 297, 1195, 278, 3044, 2614, 25836, 28706, 340, 10997, 317, 3170, 396, 268, 501, 2725, 508, 2804, 526, 300, 11139, 11018, 28708, 25836, 28706, 297, 485, 8705, 526, 4643, 10554, 972, 9867, 383, 28705, 396, 7863, 28715, 1589, 25836, 28706, 13993, 381, 526, 4643, 2248, 691, 25836, 28706, 6189, 299, 324, 1342, 2643, 1037, 331, 290, 915, 28710, 4462, 314, 340, 818, 1144, 364, 9647, 686, 266, 283, 383, 340, 297, 28708, 7318, 9647, 6423, 270, 383, 332, 6309, 317, 512, 2430, 274, 1843, 954, 492, 440, 911, 526, 492, 526, 4643, 10554, 890, 453, 4643, 22144, 278, 297, 4462, 278, 319, 11991, 266, 1286, 340, 317, 28708, 312, 332, 6309, 911, 15440, 1241, 4643, 332, 1757, 520, 28706, 332, 6309, 4505, 396, 1510, 332, 6309, 297, 4188, 26207, 332, 1757, 520, 28706, 7724, 440, 324, 332, 6309, 1043, 815, 13840, 5148, 332, 6309, 3412, 28728, 815, 13840, 340, 18472, 3292, 1165, 691, 526, 28709, 20273, 818, 457, 1071, 324, 5148, 1581, 515, 8888, 1962, 616, 408, 352, 366, 290, 915, 28710, 340, 25836, 28706, 2808, 593, 381, 340, 25836, 28706, 295, 9348, 593, 381, 1492, 28708, 2808, 381, 2765, 6395, 5672, 16712, 11387, 2808, 381, 2765, 22751, 2248, 11849, 4462, 283, 383, 3546, 301, 2784, 3156, 6076, 323, 3712, 25836, 28706, 2808, 381, 526, 593, 381, 1195, 278, 1829, 515, 937, 25711, 501, 1488, 1098, 383, 481, 293, 1476, 1962, 10554, 526, 4643, 911, 526, 593, 381, 6613, 593, 381, 481, 563, 28706, 268, 501, 526, 293, 4462, 293, 791, 551, 487, 501, 1829, 515, 526, 4643, 1488, 3712, 28706, 1710, 10338, 616, 28710, 18181, 4643, 268, 501, 526, 4643, 25836, 28706, 297, 2209, 383, 28555, 660, 3244, 563, 28706, 526, 4643, 25836, 28706, 28705, 2430, 4643, 427, 1187, 3807, 501, 4273, 10354, 3631, 469, 4643, 28555, 340, 14652, 323, 353, 278, 340, 4462, 278, 3546, 487, 2655, 466, 593, 381, 340, 1488, 353, 278, 3546, 487, 19363, 28718, 440, 593, 381, 526, 593, 381, 1195, 278, 1843, 297, 452, 28718, 270, 1183, 784, 563, 4462, 283, 383, 6076, 323, 3712, 526, 28708, 408, 352, 28706, 20429, 381, 1829, 278, 932, 286, 440, 911, 937, 286, 440, 332, 6309, 20429, 381, 4210, 408, 352, 366, 1910, 366, 3252, 3906, 6076, 323, 3712, 1829, 278, 355, 526, 4643, 2513, 308, 515, 17999, 4643, 616, 3636, 2287, 312, 1520, 911, 1829, 1380, 260, 526, 4643, 2128, 278, 260, 526, 492, 268, 973, 383, 25420, 260, 332, 6309, 5054, 815, 3485, 25420, 6076, 6572, 515, 6205, 1962, 911, 972, 9867, 383, 4303, 1962, 911, 11018, 283, 383, 613, 18181, 28708, 6076, 323, 3712, 260, 340, 290, 1663, 28708, 260, 340, 307, 2366, 15716, 260, 526, 4643, 1195, 28708, 3546, 487, 597, 450, 440, 4303, 1962, 660, 427, 6076, 323, 3712, 25836, 28706, 5137, 4643, 24644, 2614, 26739, 1286, 290, 915, 28710, 10554, 2648, 705, 605, 911, 23394, 28706, 911, 15379, 274, 277, 588, 14415, 28728, 2773, 2]}\n",
            "{'text': '<s>[INST]@Enlighten. Identify and then include in your response a passage of Pliny that addresses the following topic: ubi according to CountVectorizer[/INST]At plin. nat. 1.1, pliny_the_elder wrote the following: libro ii continentvr an finitus sit mundus et an unus de forma eius de motu eius cur mundus dicatur de elementis de deo de siderum errantium natura de lunae et solis defectibus de nocte de magnitudine siderum quae quis invenerit in observatione caelesti de lunae motu errantium motus et luminum canonica quare eadem altiora alias propiora videantur catholica siderum errantium quae ratio colores eorum mutet solis motus dierum inaequalitatis ratio quare fulmina iovi adsignentur intervalla siderum de sideribus musica de mundo geometrica de repentinis sideribus de cometis natura et situs et genera eorum hipparchea de sideribus agnoscendis  de caelestibus prodigiis per exempla historica lampades bolides trabes caelestes chasma caeli de caeli coloribus de flamma caelesti de coronis caelestibus de circulis repentinis plures soles plures lunae dierum modo noctibus lux clipei ardentes ostentum caeli semel notatum de discursu stellarum de stellis quae castores vocantur de aere de statis tempestatibus     de caniculae ortu     vis temporum anni stata de incertis tempestatibus de imbribus et quare lapidibus pluat de tonitribus et fulgetris qua ratione echo reddatur ventorum genera naturae observationes ecnephias typhon turbines presteres vertices alia prodigiosa genera tempestatum de fulminibus     quibus in terris non cadant     et quare     genera fulgurum et miracula     etrusca observatio in iis et     romana     de fulminibus evocandis     catholica fulgurum     quae numquam feriantur lacte pluisse sanguine carne ferro lana lateribus coctis portenta de lapidibus caelo cadentibus anaxagorea de his arcus caelestis natura grandinis nivis pruinae nebulae roris nubium imagines proprietates caeli in locis natura terrae de forma eius an sint antipodes quomodo aqua terrae innexa quae ratio fluminum  an circumdatus terrae oceanus quae portio terrae habitetur mediam esse mundi terram de obliquitate zonarum de inaequalitate climatum ubi eclipses non appareant et quare quae ratio diurnae lucis in terris gnomonica de ea re ubi et quando nullae umbrae ubi bis anno ubi in contrarium umbrae ferantur ubi longissimi dies ubi brevissimi de primo horologio quo modo observentur dies differentia gentium ad rationem mundi de terrae motibus de terrae hiatibus signa motus futuri auxilia contra motus futuros portenta terrarum semel tradita miracula terrae motus quibus locis maria recesserint insularum enascentium ratio quae et quibus temporibus enatae sint quas terras interruperint maria quae insulae continenti adiunctae sint quae terrae in totum mari permutatae quae terrae ipsae se minuerint urbes haustae mari de spiraculis de terris semper trementibus de insulis semper fluctuantibus quibus locis non inpluat acervata terrarum miracula qua ratione aestus maris accedant et recedant ubi aestus extra rationem idem faciant miracula maris      quae potentia lunae ad ter    rena et marina     quae solis     quare salsum mare     ubi altissimum mare mirabilia fontium et fluminum ignium et aquarum iuncta miracula     de maltha     de naphtha     quae loca semper ardeant ignium per se miracula terrae universae mensura harmonica mundi ratio summa res et historiae et observationes ccccxvii</s>', 'conversation_input': [1, 1, 733, 16289, 28793, 28818, 1608, 3646, 269, 28723, 15220, 1575, 304, 868, 3024, 297, 574, 2899, 264, 12280, 302, 1641, 4279, 369, 14501, 272, 2296, 9067, 28747, 332, 6309, 4771, 298, 4165, 6162, 4024, 28792, 28748, 16289, 28793, 3167, 549, 262, 28723, 3044, 28723, 28705, 28740, 28723, 28740, 28725, 549, 4279, 28730, 1237, 28730, 301, 826, 4677, 272, 2296, 28747, 28066, 23302, 22713, 11277, 396, 854, 279, 381, 1943, 290, 915, 381, 911, 396, 12449, 340, 10997, 317, 3170, 340, 2808, 28718, 317, 3170, 1191, 290, 915, 381, 19184, 4692, 340, 2442, 278, 340, 340, 28709, 340, 268, 1184, 383, 1166, 440, 1962, 3044, 2614, 340, 17999, 4643, 911, 2128, 278, 18366, 593, 381, 340, 708, 310, 28706, 340, 9027, 14534, 473, 268, 1184, 383, 526, 4643, 526, 278, 1304, 790, 279, 297, 15379, 28706, 277, 4152, 374, 28710, 340, 17999, 4643, 2808, 28718, 1166, 440, 1962, 2808, 381, 911, 305, 9867, 383, 28585, 1286, 526, 492, 317, 4247, 5054, 1782, 28708, 18960, 3313, 1782, 28708, 8414, 440, 324, 277, 23593, 1286, 268, 1184, 383, 1166, 440, 1962, 526, 4643, 10554, 990, 3626, 317, 25965, 4548, 299, 2128, 278, 2808, 381, 281, 749, 383, 297, 28708, 7318, 11116, 278, 10554, 526, 492, 4464, 28085, 613, 17694, 616, 6301, 308, 324, 791, 28728, 7112, 268, 1184, 383, 340, 268, 1184, 593, 381, 2009, 1286, 340, 18654, 2970, 3424, 28712, 1286, 340, 1558, 23149, 278, 268, 1184, 593, 381, 340, 432, 299, 278, 3044, 2614, 911, 1943, 381, 911, 1350, 28708, 317, 25965, 12323, 1389, 631, 28708, 340, 268, 1184, 593, 381, 717, 28711, 17815, 416, 278, 28705, 340, 277, 4152, 374, 593, 381, 430, 7845, 28710, 278, 660, 18688, 28708, 4264, 1286, 21157, 2550, 16361, 1926, 11968, 274, 277, 4152, 374, 274, 484, 21299, 277, 4152, 28710, 340, 277, 4152, 28710, 3181, 593, 381, 340, 972, 2653, 277, 4152, 374, 28710, 340, 18167, 278, 277, 4152, 374, 593, 381, 340, 15092, 278, 1558, 23149, 278, 549, 1238, 2128, 274, 549, 1238, 17999, 4643, 281, 749, 383, 20273, 708, 310, 593, 381, 11967, 533, 3985, 28710, 597, 28715, 11829, 19862, 308, 383, 277, 4152, 28710, 3546, 301, 459, 270, 383, 340, 704, 1352, 2913, 21523, 383, 340, 14062, 278, 526, 4643, 4815, 3626, 7901, 440, 324, 340, 264, 397, 340, 765, 278, 7222, 374, 270, 593, 381, 260, 340, 541, 294, 3712, 28706, 28705, 419, 28718, 260, 1717, 6613, 383, 13512, 20879, 340, 2258, 930, 278, 7222, 374, 270, 593, 381, 340, 503, 28726, 758, 381, 911, 526, 492, 14348, 313, 593, 381, 549, 28718, 270, 340, 6339, 279, 758, 381, 911, 4464, 527, 3665, 526, 28708, 408, 352, 28706, 3894, 15512, 4692, 8061, 25965, 1350, 28708, 3044, 2614, 28706, 15379, 274, 11353, 485, 721, 2995, 13936, 721, 266, 18549, 1303, 710, 2406, 274, 17794, 389, 515, 430, 7845, 2806, 28708, 1350, 28708, 7222, 374, 270, 383, 340, 4464, 1240, 593, 381, 260, 526, 593, 381, 297, 4462, 278, 1843, 13150, 440, 260, 911, 526, 492, 260, 1350, 28708, 4464, 28721, 324, 383, 911, 6076, 323, 3712, 260, 911, 17355, 2591, 3977, 16639, 297, 613, 278, 911, 260, 5423, 2238, 260, 340, 4464, 1240, 593, 381, 683, 402, 391, 278, 260, 277, 23593, 1286, 4464, 28721, 324, 383, 260, 526, 4643, 2075, 364, 314, 7724, 3906, 324, 543, 310, 28706, 549, 28718, 6813, 268, 2374, 473, 1253, 485, 7724, 311, 305, 2238, 2062, 593, 381, 1001, 310, 278, 2248, 11849, 340, 14348, 313, 593, 381, 277, 4152, 28709, 13150, 308, 593, 381, 396, 897, 357, 431, 28708, 340, 516, 13605, 381, 277, 4152, 374, 278, 3044, 2614, 3487, 24479, 307, 449, 278, 284, 551, 1380, 28706, 435, 28726, 3712, 28706, 408, 271, 278, 307, 437, 1962, 3809, 1303, 20796, 1002, 277, 4152, 28710, 297, 1195, 278, 3044, 2614, 25836, 28706, 340, 10997, 317, 3170, 396, 268, 501, 2725, 508, 2804, 526, 300, 11139, 11018, 28708, 25836, 28706, 297, 485, 8705, 526, 4643, 10554, 972, 9867, 383, 28705, 396, 7863, 28715, 1589, 25836, 28706, 13993, 381, 526, 4643, 2248, 691, 25836, 28706, 6189, 299, 324, 1342, 2643, 1037, 331, 290, 915, 28710, 4462, 314, 340, 818, 1144, 364, 9647, 686, 266, 283, 383, 340, 297, 28708, 7318, 9647, 6423, 270, 383, 332, 6309, 317, 512, 2430, 274, 1843, 954, 492, 440, 911, 526, 492, 526, 4643, 10554, 890, 453, 4643, 22144, 278, 297, 4462, 278, 319, 11991, 266, 1286, 340, 317, 28708, 312, 332, 6309, 911, 15440, 1241, 4643, 332, 1757, 520, 28706, 332, 6309, 4505, 396, 1510, 332, 6309, 297, 4188, 26207, 332, 1757, 520, 28706, 7724, 440, 324, 332, 6309, 1043, 815, 13840, 5148, 332, 6309, 3412, 28728, 815, 13840, 340, 18472, 3292, 1165, 691, 526, 28709, 20273, 818, 457, 1071, 324, 5148, 1581, 515, 8888, 1962, 616, 408, 352, 366, 290, 915, 28710, 340, 25836, 28706, 2808, 593, 381, 340, 25836, 28706, 295, 9348, 593, 381, 1492, 28708, 2808, 381, 2765, 6395, 5672, 16712, 11387, 2808, 381, 2765, 22751, 2248, 11849, 4462, 283, 383, 3546, 301, 2784, 3156, 6076, 323, 3712, 25836, 28706, 2808, 381, 526, 593, 381, 1195, 278, 1829, 515, 937, 25711, 501, 1488, 1098, 383, 481, 293, 1476, 1962, 10554, 526, 4643, 911, 526, 593, 381, 6613, 593, 381, 481, 563, 28706, 268, 501, 526, 293, 4462, 293, 791, 551, 487, 501, 1829, 515, 526, 4643, 1488, 3712, 28706, 1710, 10338, 616, 28710, 18181, 4643, 268, 501, 526, 4643, 25836, 28706, 297, 2209, 383, 28555, 660, 3244, 563, 28706, 526, 4643, 25836, 28706, 28705, 2430, 4643, 427, 1187, 3807, 501, 4273, 10354, 3631, 469, 4643, 28555, 340, 14652, 323, 353, 278, 340, 4462, 278, 3546, 487, 2655, 466, 593, 381, 340, 1488, 353, 278, 3546, 487, 19363, 28718, 440, 593, 381, 526, 593, 381, 1195, 278, 1843, 297, 452, 28718, 270, 1183, 784, 563, 4462, 283, 383, 6076, 323, 3712, 526, 28708, 408, 352, 28706, 20429, 381, 1829, 278, 932, 286, 440, 911, 937, 286, 440, 332, 6309, 20429, 381, 4210, 408, 352, 366, 1910, 366, 3252, 3906, 6076, 323, 3712, 1829, 278, 355, 526, 4643, 2513, 308, 515, 17999, 4643, 616, 3636, 2287, 312, 1520, 911, 1829, 1380, 260, 526, 4643, 2128, 278, 260, 526, 492, 268, 973, 383, 25420, 260, 332, 6309, 5054, 815, 3485, 25420, 6076, 6572, 515, 6205, 1962, 911, 972, 9867, 383, 4303, 1962, 911, 11018, 283, 383, 613, 18181, 28708, 6076, 323, 3712, 260, 340, 290, 1663, 28708, 260, 340, 307, 2366, 15716, 260, 526, 4643, 1195, 28708, 3546, 487, 597, 450, 440, 4303, 1962, 660, 427, 6076, 323, 3712, 25836, 28706, 5137, 4643, 24644, 2614, 26739, 1286, 290, 915, 28710, 10554, 2648, 705, 605, 911, 23394, 28706, 911, 15379, 274, 277, 588, 14415, 28728, 2773, 2]}\n",
            "{'text': '<s>[INST]@Enlighten. Identify and then include in your response a passage of Pliny that addresses the following topic: sidus according to CountVectorizer[/INST]At plin. nat. 1.1, pliny_the_elder wrote the following: libro ii continentvr an finitus sit mundus et an unus de forma eius de motu eius cur mundus dicatur de elementis de deo de siderum errantium natura de lunae et solis defectibus de nocte de magnitudine siderum quae quis invenerit in observatione caelesti de lunae motu errantium motus et luminum canonica quare eadem altiora alias propiora videantur catholica siderum errantium quae ratio colores eorum mutet solis motus dierum inaequalitatis ratio quare fulmina iovi adsignentur intervalla siderum de sideribus musica de mundo geometrica de repentinis sideribus de cometis natura et situs et genera eorum hipparchea de sideribus agnoscendis  de caelestibus prodigiis per exempla historica lampades bolides trabes caelestes chasma caeli de caeli coloribus de flamma caelesti de coronis caelestibus de circulis repentinis plures soles plures lunae dierum modo noctibus lux clipei ardentes ostentum caeli semel notatum de discursu stellarum de stellis quae castores vocantur de aere de statis tempestatibus     de caniculae ortu     vis temporum anni stata de incertis tempestatibus de imbribus et quare lapidibus pluat de tonitribus et fulgetris qua ratione echo reddatur ventorum genera naturae observationes ecnephias typhon turbines presteres vertices alia prodigiosa genera tempestatum de fulminibus     quibus in terris non cadant     et quare     genera fulgurum et miracula     etrusca observatio in iis et     romana     de fulminibus evocandis     catholica fulgurum     quae numquam feriantur lacte pluisse sanguine carne ferro lana lateribus coctis portenta de lapidibus caelo cadentibus anaxagorea de his arcus caelestis natura grandinis nivis pruinae nebulae roris nubium imagines proprietates caeli in locis natura terrae de forma eius an sint antipodes quomodo aqua terrae innexa quae ratio fluminum  an circumdatus terrae oceanus quae portio terrae habitetur mediam esse mundi terram de obliquitate zonarum de inaequalitate climatum ubi eclipses non appareant et quare quae ratio diurnae lucis in terris gnomonica de ea re ubi et quando nullae umbrae ubi bis anno ubi in contrarium umbrae ferantur ubi longissimi dies ubi brevissimi de primo horologio quo modo observentur dies differentia gentium ad rationem mundi de terrae motibus de terrae hiatibus signa motus futuri auxilia contra motus futuros portenta terrarum semel tradita miracula terrae motus quibus locis maria recesserint insularum enascentium ratio quae et quibus temporibus enatae sint quas terras interruperint maria quae insulae continenti adiunctae sint quae terrae in totum mari permutatae quae terrae ipsae se minuerint urbes haustae mari de spiraculis de terris semper trementibus de insulis semper fluctuantibus quibus locis non inpluat acervata terrarum miracula qua ratione aestus maris accedant et recedant ubi aestus extra rationem idem faciant miracula maris      quae potentia lunae ad ter    rena et marina     quae solis     quare salsum mare     ubi altissimum mare mirabilia fontium et fluminum ignium et aquarum iuncta miracula     de maltha     de naphtha     quae loca semper ardeant ignium per se miracula terrae universae mensura harmonica mundi ratio summa res et historiae et observationes ccccxvii</s>', 'conversation_input': [1, 1, 733, 16289, 28793, 28818, 1608, 3646, 269, 28723, 15220, 1575, 304, 868, 3024, 297, 574, 2899, 264, 12280, 302, 1641, 4279, 369, 14501, 272, 2296, 9067, 28747, 21398, 381, 4771, 298, 4165, 6162, 4024, 28792, 28748, 16289, 28793, 3167, 549, 262, 28723, 3044, 28723, 28705, 28740, 28723, 28740, 28725, 549, 4279, 28730, 1237, 28730, 301, 826, 4677, 272, 2296, 28747, 28066, 23302, 22713, 11277, 396, 854, 279, 381, 1943, 290, 915, 381, 911, 396, 12449, 340, 10997, 317, 3170, 340, 2808, 28718, 317, 3170, 1191, 290, 915, 381, 19184, 4692, 340, 2442, 278, 340, 340, 28709, 340, 268, 1184, 383, 1166, 440, 1962, 3044, 2614, 340, 17999, 4643, 911, 2128, 278, 18366, 593, 381, 340, 708, 310, 28706, 340, 9027, 14534, 473, 268, 1184, 383, 526, 4643, 526, 278, 1304, 790, 279, 297, 15379, 28706, 277, 4152, 374, 28710, 340, 17999, 4643, 2808, 28718, 1166, 440, 1962, 2808, 381, 911, 305, 9867, 383, 28585, 1286, 526, 492, 317, 4247, 5054, 1782, 28708, 18960, 3313, 1782, 28708, 8414, 440, 324, 277, 23593, 1286, 268, 1184, 383, 1166, 440, 1962, 526, 4643, 10554, 990, 3626, 317, 25965, 4548, 299, 2128, 278, 2808, 381, 281, 749, 383, 297, 28708, 7318, 11116, 278, 10554, 526, 492, 4464, 28085, 613, 17694, 616, 6301, 308, 324, 791, 28728, 7112, 268, 1184, 383, 340, 268, 1184, 593, 381, 2009, 1286, 340, 18654, 2970, 3424, 28712, 1286, 340, 1558, 23149, 278, 268, 1184, 593, 381, 340, 432, 299, 278, 3044, 2614, 911, 1943, 381, 911, 1350, 28708, 317, 25965, 12323, 1389, 631, 28708, 340, 268, 1184, 593, 381, 717, 28711, 17815, 416, 278, 28705, 340, 277, 4152, 374, 593, 381, 430, 7845, 28710, 278, 660, 18688, 28708, 4264, 1286, 21157, 2550, 16361, 1926, 11968, 274, 277, 4152, 374, 274, 484, 21299, 277, 4152, 28710, 340, 277, 4152, 28710, 3181, 593, 381, 340, 972, 2653, 277, 4152, 374, 28710, 340, 18167, 278, 277, 4152, 374, 593, 381, 340, 15092, 278, 1558, 23149, 278, 549, 1238, 2128, 274, 549, 1238, 17999, 4643, 281, 749, 383, 20273, 708, 310, 593, 381, 11967, 533, 3985, 28710, 597, 28715, 11829, 19862, 308, 383, 277, 4152, 28710, 3546, 301, 459, 270, 383, 340, 704, 1352, 2913, 21523, 383, 340, 14062, 278, 526, 4643, 4815, 3626, 7901, 440, 324, 340, 264, 397, 340, 765, 278, 7222, 374, 270, 593, 381, 260, 340, 541, 294, 3712, 28706, 28705, 419, 28718, 260, 1717, 6613, 383, 13512, 20879, 340, 2258, 930, 278, 7222, 374, 270, 593, 381, 340, 503, 28726, 758, 381, 911, 526, 492, 14348, 313, 593, 381, 549, 28718, 270, 340, 6339, 279, 758, 381, 911, 4464, 527, 3665, 526, 28708, 408, 352, 28706, 3894, 15512, 4692, 8061, 25965, 1350, 28708, 3044, 2614, 28706, 15379, 274, 11353, 485, 721, 2995, 13936, 721, 266, 18549, 1303, 710, 2406, 274, 17794, 389, 515, 430, 7845, 2806, 28708, 1350, 28708, 7222, 374, 270, 383, 340, 4464, 1240, 593, 381, 260, 526, 593, 381, 297, 4462, 278, 1843, 13150, 440, 260, 911, 526, 492, 260, 1350, 28708, 4464, 28721, 324, 383, 911, 6076, 323, 3712, 260, 911, 17355, 2591, 3977, 16639, 297, 613, 278, 911, 260, 5423, 2238, 260, 340, 4464, 1240, 593, 381, 683, 402, 391, 278, 260, 277, 23593, 1286, 4464, 28721, 324, 383, 260, 526, 4643, 2075, 364, 314, 7724, 3906, 324, 543, 310, 28706, 549, 28718, 6813, 268, 2374, 473, 1253, 485, 7724, 311, 305, 2238, 2062, 593, 381, 1001, 310, 278, 2248, 11849, 340, 14348, 313, 593, 381, 277, 4152, 28709, 13150, 308, 593, 381, 396, 897, 357, 431, 28708, 340, 516, 13605, 381, 277, 4152, 374, 278, 3044, 2614, 3487, 24479, 307, 449, 278, 284, 551, 1380, 28706, 435, 28726, 3712, 28706, 408, 271, 278, 307, 437, 1962, 3809, 1303, 20796, 1002, 277, 4152, 28710, 297, 1195, 278, 3044, 2614, 25836, 28706, 340, 10997, 317, 3170, 396, 268, 501, 2725, 508, 2804, 526, 300, 11139, 11018, 28708, 25836, 28706, 297, 485, 8705, 526, 4643, 10554, 972, 9867, 383, 28705, 396, 7863, 28715, 1589, 25836, 28706, 13993, 381, 526, 4643, 2248, 691, 25836, 28706, 6189, 299, 324, 1342, 2643, 1037, 331, 290, 915, 28710, 4462, 314, 340, 818, 1144, 364, 9647, 686, 266, 283, 383, 340, 297, 28708, 7318, 9647, 6423, 270, 383, 332, 6309, 317, 512, 2430, 274, 1843, 954, 492, 440, 911, 526, 492, 526, 4643, 10554, 890, 453, 4643, 22144, 278, 297, 4462, 278, 319, 11991, 266, 1286, 340, 317, 28708, 312, 332, 6309, 911, 15440, 1241, 4643, 332, 1757, 520, 28706, 332, 6309, 4505, 396, 1510, 332, 6309, 297, 4188, 26207, 332, 1757, 520, 28706, 7724, 440, 324, 332, 6309, 1043, 815, 13840, 5148, 332, 6309, 3412, 28728, 815, 13840, 340, 18472, 3292, 1165, 691, 526, 28709, 20273, 818, 457, 1071, 324, 5148, 1581, 515, 8888, 1962, 616, 408, 352, 366, 290, 915, 28710, 340, 25836, 28706, 2808, 593, 381, 340, 25836, 28706, 295, 9348, 593, 381, 1492, 28708, 2808, 381, 2765, 6395, 5672, 16712, 11387, 2808, 381, 2765, 22751, 2248, 11849, 4462, 283, 383, 3546, 301, 2784, 3156, 6076, 323, 3712, 25836, 28706, 2808, 381, 526, 593, 381, 1195, 278, 1829, 515, 937, 25711, 501, 1488, 1098, 383, 481, 293, 1476, 1962, 10554, 526, 4643, 911, 526, 593, 381, 6613, 593, 381, 481, 563, 28706, 268, 501, 526, 293, 4462, 293, 791, 551, 487, 501, 1829, 515, 526, 4643, 1488, 3712, 28706, 1710, 10338, 616, 28710, 18181, 4643, 268, 501, 526, 4643, 25836, 28706, 297, 2209, 383, 28555, 660, 3244, 563, 28706, 526, 4643, 25836, 28706, 28705, 2430, 4643, 427, 1187, 3807, 501, 4273, 10354, 3631, 469, 4643, 28555, 340, 14652, 323, 353, 278, 340, 4462, 278, 3546, 487, 2655, 466, 593, 381, 340, 1488, 353, 278, 3546, 487, 19363, 28718, 440, 593, 381, 526, 593, 381, 1195, 278, 1843, 297, 452, 28718, 270, 1183, 784, 563, 4462, 283, 383, 6076, 323, 3712, 526, 28708, 408, 352, 28706, 20429, 381, 1829, 278, 932, 286, 440, 911, 937, 286, 440, 332, 6309, 20429, 381, 4210, 408, 352, 366, 1910, 366, 3252, 3906, 6076, 323, 3712, 1829, 278, 355, 526, 4643, 2513, 308, 515, 17999, 4643, 616, 3636, 2287, 312, 1520, 911, 1829, 1380, 260, 526, 4643, 2128, 278, 260, 526, 492, 268, 973, 383, 25420, 260, 332, 6309, 5054, 815, 3485, 25420, 6076, 6572, 515, 6205, 1962, 911, 972, 9867, 383, 4303, 1962, 911, 11018, 283, 383, 613, 18181, 28708, 6076, 323, 3712, 260, 340, 290, 1663, 28708, 260, 340, 307, 2366, 15716, 260, 526, 4643, 1195, 28708, 3546, 487, 597, 450, 440, 4303, 1962, 660, 427, 6076, 323, 3712, 25836, 28706, 5137, 4643, 24644, 2614, 26739, 1286, 290, 915, 28710, 10554, 2648, 705, 605, 911, 23394, 28706, 911, 15379, 274, 277, 588, 14415, 28728, 2773, 2]}\n",
            "{'text': '<s>[INST]@Enlighten. Identify and then include in your response a passage of Pliny that addresses the following topic: motus according to CountVectorizer[/INST]At plin. nat. 1.1, pliny_the_elder wrote the following: libro ii continentvr an finitus sit mundus et an unus de forma eius de motu eius cur mundus dicatur de elementis de deo de siderum errantium natura de lunae et solis defectibus de nocte de magnitudine siderum quae quis invenerit in observatione caelesti de lunae motu errantium motus et luminum canonica quare eadem altiora alias propiora videantur catholica siderum errantium quae ratio colores eorum mutet solis motus dierum inaequalitatis ratio quare fulmina iovi adsignentur intervalla siderum de sideribus musica de mundo geometrica de repentinis sideribus de cometis natura et situs et genera eorum hipparchea de sideribus agnoscendis  de caelestibus prodigiis per exempla historica lampades bolides trabes caelestes chasma caeli de caeli coloribus de flamma caelesti de coronis caelestibus de circulis repentinis plures soles plures lunae dierum modo noctibus lux clipei ardentes ostentum caeli semel notatum de discursu stellarum de stellis quae castores vocantur de aere de statis tempestatibus     de caniculae ortu     vis temporum anni stata de incertis tempestatibus de imbribus et quare lapidibus pluat de tonitribus et fulgetris qua ratione echo reddatur ventorum genera naturae observationes ecnephias typhon turbines presteres vertices alia prodigiosa genera tempestatum de fulminibus     quibus in terris non cadant     et quare     genera fulgurum et miracula     etrusca observatio in iis et     romana     de fulminibus evocandis     catholica fulgurum     quae numquam feriantur lacte pluisse sanguine carne ferro lana lateribus coctis portenta de lapidibus caelo cadentibus anaxagorea de his arcus caelestis natura grandinis nivis pruinae nebulae roris nubium imagines proprietates caeli in locis natura terrae de forma eius an sint antipodes quomodo aqua terrae innexa quae ratio fluminum  an circumdatus terrae oceanus quae portio terrae habitetur mediam esse mundi terram de obliquitate zonarum de inaequalitate climatum ubi eclipses non appareant et quare quae ratio diurnae lucis in terris gnomonica de ea re ubi et quando nullae umbrae ubi bis anno ubi in contrarium umbrae ferantur ubi longissimi dies ubi brevissimi de primo horologio quo modo observentur dies differentia gentium ad rationem mundi de terrae motibus de terrae hiatibus signa motus futuri auxilia contra motus futuros portenta terrarum semel tradita miracula terrae motus quibus locis maria recesserint insularum enascentium ratio quae et quibus temporibus enatae sint quas terras interruperint maria quae insulae continenti adiunctae sint quae terrae in totum mari permutatae quae terrae ipsae se minuerint urbes haustae mari de spiraculis de terris semper trementibus de insulis semper fluctuantibus quibus locis non inpluat acervata terrarum miracula qua ratione aestus maris accedant et recedant ubi aestus extra rationem idem faciant miracula maris      quae potentia lunae ad ter    rena et marina     quae solis     quare salsum mare     ubi altissimum mare mirabilia fontium et fluminum ignium et aquarum iuncta miracula     de maltha     de naphtha     quae loca semper ardeant ignium per se miracula terrae universae mensura harmonica mundi ratio summa res et historiae et observationes ccccxvii</s>', 'conversation_input': [1, 1, 733, 16289, 28793, 28818, 1608, 3646, 269, 28723, 15220, 1575, 304, 868, 3024, 297, 574, 2899, 264, 12280, 302, 1641, 4279, 369, 14501, 272, 2296, 9067, 28747, 2808, 381, 4771, 298, 4165, 6162, 4024, 28792, 28748, 16289, 28793, 3167, 549, 262, 28723, 3044, 28723, 28705, 28740, 28723, 28740, 28725, 549, 4279, 28730, 1237, 28730, 301, 826, 4677, 272, 2296, 28747, 28066, 23302, 22713, 11277, 396, 854, 279, 381, 1943, 290, 915, 381, 911, 396, 12449, 340, 10997, 317, 3170, 340, 2808, 28718, 317, 3170, 1191, 290, 915, 381, 19184, 4692, 340, 2442, 278, 340, 340, 28709, 340, 268, 1184, 383, 1166, 440, 1962, 3044, 2614, 340, 17999, 4643, 911, 2128, 278, 18366, 593, 381, 340, 708, 310, 28706, 340, 9027, 14534, 473, 268, 1184, 383, 526, 4643, 526, 278, 1304, 790, 279, 297, 15379, 28706, 277, 4152, 374, 28710, 340, 17999, 4643, 2808, 28718, 1166, 440, 1962, 2808, 381, 911, 305, 9867, 383, 28585, 1286, 526, 492, 317, 4247, 5054, 1782, 28708, 18960, 3313, 1782, 28708, 8414, 440, 324, 277, 23593, 1286, 268, 1184, 383, 1166, 440, 1962, 526, 4643, 10554, 990, 3626, 317, 25965, 4548, 299, 2128, 278, 2808, 381, 281, 749, 383, 297, 28708, 7318, 11116, 278, 10554, 526, 492, 4464, 28085, 613, 17694, 616, 6301, 308, 324, 791, 28728, 7112, 268, 1184, 383, 340, 268, 1184, 593, 381, 2009, 1286, 340, 18654, 2970, 3424, 28712, 1286, 340, 1558, 23149, 278, 268, 1184, 593, 381, 340, 432, 299, 278, 3044, 2614, 911, 1943, 381, 911, 1350, 28708, 317, 25965, 12323, 1389, 631, 28708, 340, 268, 1184, 593, 381, 717, 28711, 17815, 416, 278, 28705, 340, 277, 4152, 374, 593, 381, 430, 7845, 28710, 278, 660, 18688, 28708, 4264, 1286, 21157, 2550, 16361, 1926, 11968, 274, 277, 4152, 374, 274, 484, 21299, 277, 4152, 28710, 340, 277, 4152, 28710, 3181, 593, 381, 340, 972, 2653, 277, 4152, 374, 28710, 340, 18167, 278, 277, 4152, 374, 593, 381, 340, 15092, 278, 1558, 23149, 278, 549, 1238, 2128, 274, 549, 1238, 17999, 4643, 281, 749, 383, 20273, 708, 310, 593, 381, 11967, 533, 3985, 28710, 597, 28715, 11829, 19862, 308, 383, 277, 4152, 28710, 3546, 301, 459, 270, 383, 340, 704, 1352, 2913, 21523, 383, 340, 14062, 278, 526, 4643, 4815, 3626, 7901, 440, 324, 340, 264, 397, 340, 765, 278, 7222, 374, 270, 593, 381, 260, 340, 541, 294, 3712, 28706, 28705, 419, 28718, 260, 1717, 6613, 383, 13512, 20879, 340, 2258, 930, 278, 7222, 374, 270, 593, 381, 340, 503, 28726, 758, 381, 911, 526, 492, 14348, 313, 593, 381, 549, 28718, 270, 340, 6339, 279, 758, 381, 911, 4464, 527, 3665, 526, 28708, 408, 352, 28706, 3894, 15512, 4692, 8061, 25965, 1350, 28708, 3044, 2614, 28706, 15379, 274, 11353, 485, 721, 2995, 13936, 721, 266, 18549, 1303, 710, 2406, 274, 17794, 389, 515, 430, 7845, 2806, 28708, 1350, 28708, 7222, 374, 270, 383, 340, 4464, 1240, 593, 381, 260, 526, 593, 381, 297, 4462, 278, 1843, 13150, 440, 260, 911, 526, 492, 260, 1350, 28708, 4464, 28721, 324, 383, 911, 6076, 323, 3712, 260, 911, 17355, 2591, 3977, 16639, 297, 613, 278, 911, 260, 5423, 2238, 260, 340, 4464, 1240, 593, 381, 683, 402, 391, 278, 260, 277, 23593, 1286, 4464, 28721, 324, 383, 260, 526, 4643, 2075, 364, 314, 7724, 3906, 324, 543, 310, 28706, 549, 28718, 6813, 268, 2374, 473, 1253, 485, 7724, 311, 305, 2238, 2062, 593, 381, 1001, 310, 278, 2248, 11849, 340, 14348, 313, 593, 381, 277, 4152, 28709, 13150, 308, 593, 381, 396, 897, 357, 431, 28708, 340, 516, 13605, 381, 277, 4152, 374, 278, 3044, 2614, 3487, 24479, 307, 449, 278, 284, 551, 1380, 28706, 435, 28726, 3712, 28706, 408, 271, 278, 307, 437, 1962, 3809, 1303, 20796, 1002, 277, 4152, 28710, 297, 1195, 278, 3044, 2614, 25836, 28706, 340, 10997, 317, 3170, 396, 268, 501, 2725, 508, 2804, 526, 300, 11139, 11018, 28708, 25836, 28706, 297, 485, 8705, 526, 4643, 10554, 972, 9867, 383, 28705, 396, 7863, 28715, 1589, 25836, 28706, 13993, 381, 526, 4643, 2248, 691, 25836, 28706, 6189, 299, 324, 1342, 2643, 1037, 331, 290, 915, 28710, 4462, 314, 340, 818, 1144, 364, 9647, 686, 266, 283, 383, 340, 297, 28708, 7318, 9647, 6423, 270, 383, 332, 6309, 317, 512, 2430, 274, 1843, 954, 492, 440, 911, 526, 492, 526, 4643, 10554, 890, 453, 4643, 22144, 278, 297, 4462, 278, 319, 11991, 266, 1286, 340, 317, 28708, 312, 332, 6309, 911, 15440, 1241, 4643, 332, 1757, 520, 28706, 332, 6309, 4505, 396, 1510, 332, 6309, 297, 4188, 26207, 332, 1757, 520, 28706, 7724, 440, 324, 332, 6309, 1043, 815, 13840, 5148, 332, 6309, 3412, 28728, 815, 13840, 340, 18472, 3292, 1165, 691, 526, 28709, 20273, 818, 457, 1071, 324, 5148, 1581, 515, 8888, 1962, 616, 408, 352, 366, 290, 915, 28710, 340, 25836, 28706, 2808, 593, 381, 340, 25836, 28706, 295, 9348, 593, 381, 1492, 28708, 2808, 381, 2765, 6395, 5672, 16712, 11387, 2808, 381, 2765, 22751, 2248, 11849, 4462, 283, 383, 3546, 301, 2784, 3156, 6076, 323, 3712, 25836, 28706, 2808, 381, 526, 593, 381, 1195, 278, 1829, 515, 937, 25711, 501, 1488, 1098, 383, 481, 293, 1476, 1962, 10554, 526, 4643, 911, 526, 593, 381, 6613, 593, 381, 481, 563, 28706, 268, 501, 526, 293, 4462, 293, 791, 551, 487, 501, 1829, 515, 526, 4643, 1488, 3712, 28706, 1710, 10338, 616, 28710, 18181, 4643, 268, 501, 526, 4643, 25836, 28706, 297, 2209, 383, 28555, 660, 3244, 563, 28706, 526, 4643, 25836, 28706, 28705, 2430, 4643, 427, 1187, 3807, 501, 4273, 10354, 3631, 469, 4643, 28555, 340, 14652, 323, 353, 278, 340, 4462, 278, 3546, 487, 2655, 466, 593, 381, 340, 1488, 353, 278, 3546, 487, 19363, 28718, 440, 593, 381, 526, 593, 381, 1195, 278, 1843, 297, 452, 28718, 270, 1183, 784, 563, 4462, 283, 383, 6076, 323, 3712, 526, 28708, 408, 352, 28706, 20429, 381, 1829, 278, 932, 286, 440, 911, 937, 286, 440, 332, 6309, 20429, 381, 4210, 408, 352, 366, 1910, 366, 3252, 3906, 6076, 323, 3712, 1829, 278, 355, 526, 4643, 2513, 308, 515, 17999, 4643, 616, 3636, 2287, 312, 1520, 911, 1829, 1380, 260, 526, 4643, 2128, 278, 260, 526, 492, 268, 973, 383, 25420, 260, 332, 6309, 5054, 815, 3485, 25420, 6076, 6572, 515, 6205, 1962, 911, 972, 9867, 383, 4303, 1962, 911, 11018, 283, 383, 613, 18181, 28708, 6076, 323, 3712, 260, 340, 290, 1663, 28708, 260, 340, 307, 2366, 15716, 260, 526, 4643, 1195, 28708, 3546, 487, 597, 450, 440, 4303, 1962, 660, 427, 6076, 323, 3712, 25836, 28706, 5137, 4643, 24644, 2614, 26739, 1286, 290, 915, 28710, 10554, 2648, 705, 605, 911, 23394, 28706, 911, 15379, 274, 277, 588, 14415, 28728, 2773, 2]}\n"
          ]
        }
      ]
    },
    {
      "cell_type": "code",
      "source": [
        "len(custom_dataset)"
      ],
      "metadata": {
        "colab": {
          "base_uri": "https://localhost:8080/"
        },
        "id": "4FUlbLJUTkmA",
        "outputId": "54db9dd4-f1d3-4932-c297-414a6f025cf3"
      },
      "execution_count": 45,
      "outputs": [
        {
          "output_type": "execute_result",
          "data": {
            "text/plain": [
              "57140"
            ]
          },
          "metadata": {},
          "execution_count": 45
        }
      ]
    }
  ]
}
